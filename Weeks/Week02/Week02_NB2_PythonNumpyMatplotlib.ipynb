{
  "cells": [
    {
      "cell_type": "markdown",
      "id": "5575f363-5ae5-4c67-a458-7d411e33320c",
      "metadata": {},
      "source": "# Python essentials"
    },
    {
      "cell_type": "markdown",
      "id": "f12c0824-5f23-40e6-9ef0-6db540b09132",
      "metadata": {},
      "source": "Python is a powerful language with many useful features.  The following introduces core concepts to get us up and running."
    },
    {
      "cell_type": "markdown",
      "id": "0ecff469",
      "metadata": {},
      "source": "## Basic arithmetic"
    },
    {
      "cell_type": "markdown",
      "id": "656d8a66",
      "metadata": {},
      "source": "Python has standard arithmetic operators for common math operations:"
    },
    {
      "cell_type": "code",
      "execution_count": null,
      "id": "ed6a0cca",
      "metadata": {
        "trusted": true
      },
      "outputs": [],
      "source": "42 + 24"
    },
    {
      "cell_type": "code",
      "execution_count": null,
      "id": "4228fd63",
      "metadata": {
        "trusted": true
      },
      "outputs": [],
      "source": "42 - 24"
    },
    {
      "cell_type": "code",
      "execution_count": null,
      "id": "b5597afa",
      "metadata": {
        "trusted": true
      },
      "outputs": [],
      "source": "42 * 24"
    },
    {
      "cell_type": "code",
      "execution_count": null,
      "id": "ad3282c6",
      "metadata": {
        "trusted": true
      },
      "outputs": [],
      "source": "42 / 24"
    },
    {
      "cell_type": "code",
      "execution_count": null,
      "id": "6965852c",
      "metadata": {
        "trusted": true
      },
      "outputs": [],
      "source": "42 // 24"
    },
    {
      "cell_type": "code",
      "execution_count": null,
      "id": "1f3ef900",
      "metadata": {
        "trusted": true
      },
      "outputs": [],
      "source": "42 % 24"
    },
    {
      "cell_type": "code",
      "execution_count": null,
      "id": "e861c0cc",
      "metadata": {
        "trusted": true
      },
      "outputs": [],
      "source": "42**24"
    },
    {
      "cell_type": "markdown",
      "id": "ef257f58",
      "metadata": {},
      "source": "# Comments"
    },
    {
      "cell_type": "markdown",
      "id": "e5d3a1ff",
      "metadata": {},
      "source": "Here in the notebooks we can comment with markdown cells, but Python also has special notation for comments:"
    },
    {
      "cell_type": "code",
      "execution_count": null,
      "id": "36b4b235",
      "metadata": {
        "trusted": true
      },
      "outputs": [],
      "source": "# This is a single line comment"
    },
    {
      "cell_type": "code",
      "execution_count": null,
      "id": "a940814f",
      "metadata": {
        "trusted": true
      },
      "outputs": [],
      "source": "# A two line\n# comment"
    },
    {
      "cell_type": "code",
      "execution_count": null,
      "id": "857782dd",
      "metadata": {
        "trusted": true
      },
      "outputs": [],
      "source": "'''\nA multi-line comment\nfor saying that we are going\nto multiply\n24\nby\n42\n'''\n24 * 42"
    },
    {
      "cell_type": "code",
      "execution_count": null,
      "id": "664e5511",
      "metadata": {
        "trusted": true
      },
      "outputs": [],
      "source": "\"\"\"\nA multi-line comment\nfor saying that we are going\nto multiply\n24\nby\n42\n\"\"\"\n24 * 42"
    },
    {
      "cell_type": "markdown",
      "id": "6207b38f",
      "metadata": {},
      "source": "## Variables and literals"
    },
    {
      "cell_type": "markdown",
      "id": "315b01e9",
      "metadata": {},
      "source": "Generalizing the mathematical operations on numbers, variables can also be used.\n\nA variable is a named location in memory.  For example:"
    },
    {
      "cell_type": "code",
      "execution_count": null,
      "id": "be4ae2e0",
      "metadata": {
        "trusted": true
      },
      "outputs": [],
      "source": "a = 42"
    },
    {
      "cell_type": "markdown",
      "id": "b62c60e0",
      "metadata": {},
      "source": "`a` is the variable, and its value is now set to 42.  \n\nThe `=` symbol is used to assign the value on the right to the variable name on the left.  It is *not* a symbol for testing equality."
    },
    {
      "cell_type": "code",
      "execution_count": null,
      "id": "282c061e",
      "metadata": {
        "trusted": true
      },
      "outputs": [],
      "source": "a + 24"
    },
    {
      "cell_type": "code",
      "execution_count": null,
      "id": "5b306acc",
      "metadata": {
        "trusted": true
      },
      "outputs": [],
      "source": "a**24"
    },
    {
      "cell_type": "code",
      "execution_count": null,
      "id": "707a183e",
      "metadata": {
        "trusted": true
      },
      "outputs": [],
      "source": "a"
    },
    {
      "cell_type": "markdown",
      "id": "30fc5340",
      "metadata": {},
      "source": "Note:  if there is an unassigned expression at the end of a code cell, executing the cell will print the value of that expression (or variable)."
    },
    {
      "cell_type": "markdown",
      "id": "0c67d80a",
      "metadata": {},
      "source": "Printing output is a common functionality and can be done explicitly with the `print` function."
    },
    {
      "cell_type": "code",
      "execution_count": null,
      "id": "38ace881",
      "metadata": {
        "trusted": true
      },
      "outputs": [],
      "source": "print(a)"
    },
    {
      "cell_type": "markdown",
      "id": "1e39aa0c",
      "metadata": {},
      "source": "Example math: compound interest calculator with annual contributions\n\n* p = principal\n* r = annual interest rate\n* y = year of the balance\n* c = annual contribution (made at the start of the year)\n\n$$\\text{Balance}(y) = p(1 + r)^y + c\\left[\\frac{(1 + r)^{y+1} - (1 + r)}{r} \\right]$$"
    },
    {
      "cell_type": "code",
      "execution_count": null,
      "id": "3ec80d6e",
      "metadata": {
        "trusted": true
      },
      "outputs": [],
      "source": "p = 1000\nr = 0.05\ny = 45\nc = 6500\n\nbalance = p*(1 + r)**y + c*( ((1 + r)**(y+1) - (1 + r)) / r )\n\nprint(balance)"
    },
    {
      "cell_type": "markdown",
      "id": "a5dbece9",
      "metadata": {},
      "source": "There are, of course, a variety of other things to operate on besides numbers.  (and we'll come back to **functions** shortly)."
    },
    {
      "cell_type": "markdown",
      "id": "317586a6",
      "metadata": {},
      "source": "### Strings\n* an ordered collection of characters\n* immutable\n* you can retrieve a specific character using the index operator `[]` with an integer index\n* you can retrieve a subset of characters using the index operator `[]` and slice notation `[<start>:<end>]` (\\<end\\> is not included)"
    },
    {
      "cell_type": "code",
      "execution_count": null,
      "id": "28ad5b17",
      "metadata": {
        "trusted": true
      },
      "outputs": [],
      "source": "# all of the following are equivalent\nmy_string = 'Arthur'\nprint(my_string)\n\nmy_string = \"Arthur\"\nprint(my_string)\n\nmy_string = '''Arthur'''\nprint(my_string)\n\n# triple quotes string can extend multiple lines\nmy_string = \"\"\"Hello, Arthur, welcome to\n           the world of [Monty] Python\"\"\"\nprint(my_string)"
    },
    {
      "cell_type": "code",
      "execution_count": null,
      "id": "2319a6aa",
      "metadata": {
        "trusted": true
      },
      "outputs": [],
      "source": "str0 = 'e.t. phone home!'\nprint('str0 = ', str0) # Output: e.t. phone home!\n\nprint('str0[0] = ', str0[0]) # Output: e\n\nprint('str0[-1] = ', str0[-1]) # Output: !\n\n#slicing 2nd to 5th character\nprint('str0[1:5] = ', str0[1:5]) # Output: .t.\n\n#slicing 6th to 2nd last character\nprint('str0[5:-2] = ', str0[5:-2]) # Output: phone hom"
    },
    {
      "cell_type": "markdown",
      "id": "a1841259",
      "metadata": {},
      "source": "You can use the operators `+` and `*` to concatenate and duplicate strings:"
    },
    {
      "cell_type": "code",
      "execution_count": null,
      "id": "9ef85fd3",
      "metadata": {
        "trusted": true
      },
      "outputs": [],
      "source": "str1 = 'Phone '\nstr2 ='Home!'\n\n# Output: Phone Home!\nprint(str1 + str2)\n\n# Phone Phone Phone\nprint(str1 * 3)"
    },
    {
      "cell_type": "code",
      "execution_count": null,
      "id": "8e1e325d",
      "metadata": {
        "trusted": true
      },
      "outputs": [],
      "source": "print('The print function can take two or more input parameters: a =', a)"
    },
    {
      "cell_type": "code",
      "execution_count": null,
      "id": "43225937",
      "metadata": {
        "trusted": true
      },
      "outputs": [],
      "source": "# ERROR!\nprint('The print function can take two or more input parameters: a =' + a)"
    },
    {
      "cell_type": "markdown",
      "id": "341207d6",
      "metadata": {},
      "source": "You cannot \"add\" strings and integers!\n* Also, you will find it useful to be able to decipher error messages like this.  We will return to this later."
    },
    {
      "cell_type": "code",
      "execution_count": null,
      "id": "38eae8cb",
      "metadata": {
        "trusted": true
      },
      "outputs": [],
      "source": "# Solve the error by type casting the integer to a string\n\nprint('The print function can take two or more input parameters: a =' + str(a))"
    },
    {
      "cell_type": "markdown",
      "id": "f8679b86-d991-44b7-a1c5-c35db5cf236a",
      "metadata": {},
      "source": "## Two additionally useful data structures"
    },
    {
      "cell_type": "markdown",
      "id": "d8fc76a5-2de8-41ba-a654-7c47018688ca",
      "metadata": {},
      "source": "Two of the most common data structures in Python are lists and dictionaries."
    },
    {
      "cell_type": "markdown",
      "id": "7756f34d",
      "metadata": {},
      "source": "### List\n* an ordered collection of elements\n* elements are placed in square brackets `[]` and separated by commas\n* they can have elements of different types\n* the index operator `[]` with an integer index will retrieve an element at that index\n* negative indices can be used to count from the end of the list"
    },
    {
      "cell_type": "code",
      "execution_count": null,
      "id": "d6079da4-3a64-489a-8670-04af6f5c736f",
      "metadata": {
        "trusted": true
      },
      "outputs": [],
      "source": "# empty list\nmy_list = []\n\n# list of integers\nmy_list = [1, 2, 5]\n\n# list with mixed data types\nmy_list = [1, \"Parrot\", 3.14159]"
    },
    {
      "cell_type": "code",
      "execution_count": null,
      "id": "893069a3-1e42-445b-888c-ee46eee17ad0",
      "metadata": {
        "trusted": true
      },
      "outputs": [],
      "source": "riddles = [\"Lancelot\", \"Holy Grail\", \"Blue\", \"Southwest\"]\n\n# Accessing first element\nprint(riddles[0])\n\n# Accessing fourth element\nprint(riddles[3])"
    },
    {
      "cell_type": "markdown",
      "id": "2e5c16bf",
      "metadata": {},
      "source": "### Dictionary\n* an unordered collection of elements\n* elements consist of `key: value` pairs\n* elements are placed in curly braces `{}` and separated by commas\n* they can have elements of different types\n* the index operator `[]` with a key index will retrieve the value corresponding to that key    "
    },
    {
      "cell_type": "code",
      "execution_count": null,
      "id": "a2212dc8-7ae4-423a-ae3b-1a1ccd024f8a",
      "metadata": {
        "trusted": true
      },
      "outputs": [],
      "source": "# empty dictionary\nmy_dict = {}\n\n# dictionary with integer keys\nmy_dict = {1: 'red', 2: 'blue'}\n\n# dictionary with mixed keys\nmy_dict = {'name': 'Arthur', 1: [1, 2, 5]}"
    },
    {
      "cell_type": "code",
      "execution_count": null,
      "id": "4f6288f7-d9d1-49e3-bc09-8b84451ee646",
      "metadata": {
        "trusted": true
      },
      "outputs": [],
      "source": "person = {'name':'Gwen', 'age': 26, 'salary': 94534.2}\nprint(person['age'])"
    },
    {
      "cell_type": "code",
      "execution_count": null,
      "id": "dbd00feb-1607-4e8a-8b52-46d9753f7083",
      "metadata": {
        "trusted": true
      },
      "outputs": [],
      "source": "person = {'name':'Gwen', 'age': 26}\n\n# Changing age to 36\nperson['age'] = 36 \nprint(person) # Output: {'name': 'Gwen', 'age': 36}\n\n# Adding salary key, value pair\nperson['salary'] = 94342.4\nprint(person) # Output: {'name': 'Gwen', 'age': 36, 'salary': 94342.4}\n\n# Deleting age\ndel person['age']\nprint(person) # Output: {'name': 'Gwen', 'salary': 94342.4}\n\n# Deleting entire dictionary\ndel person"
    },
    {
      "cell_type": "markdown",
      "id": "36a12053-77d7-4ef7-9ad7-1bdc295395ae",
      "metadata": {},
      "source": "<div class=\"alert alert-info\">\n\n<b>Your turn:</b>\n\n1. Make a list, a dictionary, and a string, each with 5+ elements\n2. Retrieve elements from these variables using the appropriate indexing.\n3. In addition, try making new cells, deleting cells, and copy/pasting cells.\n\n</div>"
    },
    {
      "cell_type": "code",
      "execution_count": null,
      "id": "d2f80e62",
      "metadata": {
        "trusted": true
      },
      "outputs": [],
      "source": ""
    },
    {
      "cell_type": "code",
      "execution_count": null,
      "id": "2672d215",
      "metadata": {
        "trusted": true
      },
      "outputs": [],
      "source": ""
    },
    {
      "cell_type": "markdown",
      "id": "b9931b82",
      "metadata": {},
      "source": "## Flow control"
    },
    {
      "cell_type": "code",
      "execution_count": null,
      "id": "ba0d0e8a-141d-4a1f-bba3-e58190eb6512",
      "metadata": {
        "trusted": true
      },
      "outputs": [],
      "source": "# List example\n\np = 1000\nr = 0.05\nc = 6500\n\nbalance_list = [p*(1 + r)**5 + c*( ((1 + r)**(5+1) - (1 + r)) / r ),\n                p*(1 + r)**10 + c*( ((1 + r)**(10+1) - (1 + r)) / r ),\n                p*(1 + r)**15 + c*( ((1 + r)**(15+1) - (1 + r)) / r ),\n                p*(1 + r)**20 + c*( ((1 + r)**(20+1) - (1 + r)) / r )]\n\nprint(balance_list)\nprint(balance_list[2])"
    },
    {
      "cell_type": "code",
      "execution_count": null,
      "id": "757f9eff-e5bf-46e8-86d3-f3d0d3e6c3ff",
      "metadata": {
        "trusted": true
      },
      "outputs": [],
      "source": "# Dictionary example\n\np = 1000\nr = 0.05\nc = 6500\n\nbalance_dictionary = {5: p*(1 + r)**5 + c*( ((1 + r)**(5+1) - (1 + r)) / r ),\n                      10: p*(1 + r)**10 + c*( ((1 + r)**(10+1) - (1 + r)) / r ),\n                      15: p*(1 + r)**15 + c*( ((1 + r)**(15+1) - (1 + r)) / r ),\n                      20: p*(1 + r)**20 + c*( ((1 + r)**(20+1) - (1 + r)) / r )}\n\nprint(balance_dictionary)\n\n# this will give an error -> how do we index this to get output like above?\nprint(balance_dictionary[2])"
    },
    {
      "cell_type": "markdown",
      "id": "8057218a",
      "metadata": {},
      "source": "Replicating the equation four times for four different values is tedious, plus it's prone to error when revising the equations.  What if you simply miss one number?\n\nAutomating repetition is useful, as is controling the logical flow of your commands."
    },
    {
      "cell_type": "markdown",
      "id": "ceca517d",
      "metadata": {},
      "source": "### for loops"
    },
    {
      "cell_type": "markdown",
      "id": "71768cdc",
      "metadata": {},
      "source": "In Python, a `for` loop is used to iterate over a sequence (list, string, etc) or other iterable objects. Iterating over a sequence is called traversal.\n\n```\nfor <iter_variable> in <sequence>:\n    <statement1>\n    <statement2>\n        ...\n```  \n\n* starts with a `for`\n* the \\<iter_variable\\> can be any name you want (except Python keyword)\n* the \\<sequence\\> is what you iterate over\n* end the for statement with `:`\n* indent those Python commands that should be executed for every item in \\<sequence\\>\n    "
    },
    {
      "cell_type": "code",
      "execution_count": null,
      "id": "61a7b8ea",
      "metadata": {
        "trusted": true
      },
      "outputs": [],
      "source": "numbers = [1, 1, 2, 3, 5, 8]\n\n# iterate over the list\nfor val in numbers:\n    print(val)"
    },
    {
      "cell_type": "markdown",
      "id": "bb46b07b",
      "metadata": {},
      "source": "**Note:** Python uses indentation to define blocks of code\n* this is not merely a matter of style in Python\n* a code block starts with indentation and ends with the first unindented line\n* it is up to you how many spaces you want to use for indentation, as long as you are consistent\n* you can not mix tabs and spaces -- here in Jupyter, the indentation is set automatically to 4 spaces\n    * generally, four whitespaces are used for indentation and is preferred over tabs."
    },
    {
      "cell_type": "code",
      "execution_count": null,
      "id": "921b0280",
      "metadata": {
        "trusted": true
      },
      "outputs": [],
      "source": "for val in numbers:\n    print(val)\n    print(\"I am inside the body of the for loop.\")\n    print(\"I am also inside the body of the for loop.\")\nprint(\"I am outside the body of the for loop\")"
    },
    {
      "cell_type": "markdown",
      "id": "bd45f8cb",
      "metadata": {},
      "source": "Here's an example to find the sum of all numbers stored in a list."
    },
    {
      "cell_type": "code",
      "execution_count": null,
      "id": "236e0b09",
      "metadata": {
        "trusted": true
      },
      "outputs": [],
      "source": "numbers = [1, 1, 2, 3, 5, 8]\n\nsum = 0\n\n# iterate over the list\nfor val in numbers:\n    sum = sum + val\n\nprint(\"The sum is\", sum) # Output: The sum is 20"
    },
    {
      "cell_type": "markdown",
      "id": "27623786",
      "metadata": {},
      "source": "Automating our `balances` example:"
    },
    {
      "cell_type": "code",
      "execution_count": null,
      "id": "721ecd4d",
      "metadata": {
        "trusted": true
      },
      "outputs": [],
      "source": "p = 1000\nr = 0.05\nc = 6500\n\nbalances = {}\nfor i in [5,10,15,20]:\n    balances[i] = p*(1 + r)**i + c*( ((1 + r)**(i+1) - (1 + r)) / r )\n\nprint(balances)"
    },
    {
      "cell_type": "markdown",
      "id": "3bc9a560",
      "metadata": {},
      "source": "`for` loops can also be used to iterate a given number of times with the special function `range`:\n* `range(n)` returns a sequence of numbers from 0 to n (n not included)\n* `range(n,m)` returns a sequence of numbers from n to m (m not included)\n* `range(n,m,i)` returns a sequence of numbers from n to m (m not included) with an interval of i between numbers"
    },
    {
      "cell_type": "code",
      "execution_count": null,
      "id": "abb47a2b",
      "metadata": {
        "trusted": true
      },
      "outputs": [],
      "source": "for disneytrip in range(10):\n    print(str(disneytrip) + ': Are we there yet?')"
    },
    {
      "cell_type": "markdown",
      "id": "a75f04cb",
      "metadata": {},
      "source": "<div class=\"alert alert-info\">\n\n<b>Your turn:</b> Create a for loop that prints the sequence 1, 2, 5\n    \n</div>"
    },
    {
      "cell_type": "code",
      "execution_count": null,
      "id": "03407884",
      "metadata": {
        "trusted": true
      },
      "outputs": [],
      "source": ""
    },
    {
      "cell_type": "markdown",
      "id": "930ac570-2e52-4308-b274-3799ba68684d",
      "metadata": {},
      "source": "### If/else statements\n`if`, `elif`, and `else` allow you to execute Python commands only if some condition is satisfied.\n\n```\nif <boolean condition>:\n    <statement>\n    <statement>\n        ...\nelif <boolean_condition>:\n    <statement>\n    <statement>\n        ...\nelif <boolean_condition>:\n    <statement>\n    <statement>\n        ...\n...\nelse:\n    <statement>\n    <statement>\n        ...\n```  \n\n* starts with an `if`\n* the \\<boolean condition\\> is something that is True or False\n* end the if statement with `:`\n* if the boolean condition is true, execute the statements\n* otherwise proceed to the next `elif` or `else` lines\n* `elif` proceeds similarly as described for the `if`\n* `else` gets executed if nothing has been True\n* all elif and else lines are optional\n    "
    },
    {
      "cell_type": "markdown",
      "id": "2ca4e635",
      "metadata": {},
      "source": "Mathematical conditions:\n* These are rather straight-forward, but try making a few if/elif/else statements to check the True and False values.\n* Equals: `==`\n* Does not equal: `!=`\n* Less than: `<`\n* Less than or equal to: `<=`\n* Greater than: `>`\n* Greater than or equal to: `>=`\n\nBoolean combinations:\n* You can evaluate more than one True/False condition in the statements by combining conditions with `and`, `or`, and `not`"
    },
    {
      "cell_type": "code",
      "execution_count": null,
      "id": "cb0f5bf2-3c86-4cb5-90d2-1c67f535a01d",
      "metadata": {
        "trusted": true
      },
      "outputs": [],
      "source": "num = -1\n\nif num > 0:\n    print(\"Positive number\")\nelif num == 0:\n    print(\"Zero\")\nelse:\n    print(\"Negative number\")\n    \n# Output: Negative number"
    },
    {
      "cell_type": "code",
      "execution_count": null,
      "id": "ec18b70e",
      "metadata": {
        "trusted": true
      },
      "outputs": [],
      "source": "p = 1000\nr = 0.05\nc = 6500\n\nfor i in range(20):\n    if i % 5 == 0:\n        balances[i] = p*(1 + r)**i + c*( ((1 + r)**(i+1) - (1 + r)) / r )\n\nprint(balances)"
    },
    {
      "cell_type": "markdown",
      "id": "b917d8bb",
      "metadata": {},
      "source": "What happened?"
    },
    {
      "cell_type": "code",
      "execution_count": null,
      "id": "ee147b32",
      "metadata": {
        "trusted": true
      },
      "outputs": [],
      "source": "p = 1000\nr = 0.05\nc = 6500\n\nbalances = {}\nfor i in range(20):\n    if i % 5 == 0:\n        balances[i] = p*(1 + r)**i + c*( ((1 + r)**(i+1) - (1 + r)) / r )\n\nprint(balances)"
    },
    {
      "cell_type": "code",
      "execution_count": null,
      "id": "e022bad5",
      "metadata": {
        "trusted": true
      },
      "outputs": [],
      "source": "p = 1000\nr = 0.05\nc = 6500\n\nbalances = {}\nfor i in range(1,21):\n    if i % 5 == 0:\n        balances[i] = p*(1 + r)**i + c*( ((1 + r)**(i+1) - (1 + r)) / r )\n\nprint(balances)"
    },
    {
      "cell_type": "markdown",
      "id": "624deeff",
      "metadata": {},
      "source": "<div class=\"alert alert-info\">\n\n<b>Your turn:</b> Execute the cell below and make sure you understand its logic.  Then try assigning different values to `claim` and re-executing the cell several times to make sure you can follow the logic of the resulting print statement.  Intersperse other conditions as well as boolean combinations.\n    \n</div>"
    },
    {
      "cell_type": "code",
      "execution_count": null,
      "id": "cb85a8c6-b5da-4370-a6d2-d1b34aabbcdb",
      "metadata": {
        "trusted": true
      },
      "outputs": [],
      "source": "# Switch the value of claim to check the logic\n\nclaim = 5\nif claim == 1 or claim == 2:\n    print('do not throw the grenade yet')\nelif claim == 3:\n    print('throw the grenade')\nelif claim == 5:\n    print('Silly Arthur.  3 comes after 2.')\nelse:\n    print('You are too late - kaboom!')"
    },
    {
      "cell_type": "markdown",
      "id": "ffbc4642-4c4e-42e5-a122-3de9ed8cfcc9",
      "metadata": {},
      "source": "## Functions"
    },
    {
      "cell_type": "markdown",
      "id": "1b08dd55",
      "metadata": {},
      "source": "**Functions** contain organized, reusable code to perform an action.\n\nPython has several built-in functions (https://docs.python.org/3/library/functions.html)."
    },
    {
      "cell_type": "code",
      "execution_count": null,
      "id": "1ea44727",
      "metadata": {
        "trusted": true
      },
      "outputs": [],
      "source": "print(a)"
    },
    {
      "cell_type": "code",
      "execution_count": null,
      "id": "7af3ddc7",
      "metadata": {
        "trusted": true
      },
      "outputs": [],
      "source": "str(a)"
    },
    {
      "cell_type": "code",
      "execution_count": null,
      "id": "c8c9e99e",
      "metadata": {
        "trusted": true
      },
      "outputs": [],
      "source": "len('Hello world')"
    },
    {
      "cell_type": "code",
      "execution_count": null,
      "id": "aa08661f",
      "metadata": {
        "trusted": true
      },
      "outputs": [],
      "source": "type('Hello world')"
    },
    {
      "cell_type": "markdown",
      "id": "90aab33e-56de-4edb-8e6a-c972094d6d6d",
      "metadata": {},
      "source": "We can also write our own. \n\n```\ndef <name>(arg1, arg2, ..., argN):\n    <statements>\n    return <value>\n```\n\n* Functions start with the `def` keyword,\n* then the function name, \n* followed immediately by parentheses that enclose a parameter list,\n* and then a `:`\n* The function body falls on subsequent lines\n* The function ends when the indentation stops"
    },
    {
      "cell_type": "code",
      "execution_count": null,
      "id": "07200b40-c01b-42c7-98df-b79d13ff3e71",
      "metadata": {
        "trusted": true
      },
      "outputs": [],
      "source": "def f():\n    print('Hello World!')"
    },
    {
      "cell_type": "code",
      "execution_count": null,
      "id": "996a76a4-10ff-41e7-a27f-4d7f7b76ec26",
      "metadata": {
        "trusted": true
      },
      "outputs": [],
      "source": "# You need to call it to see any output or retrieve returned values\nf()"
    },
    {
      "cell_type": "code",
      "execution_count": null,
      "id": "c9b3ee14-6d0f-4109-93c7-b9f3e01b8f06",
      "metadata": {
        "trusted": true
      },
      "outputs": [],
      "source": "def f2(a):\n    return a*2"
    },
    {
      "cell_type": "code",
      "execution_count": null,
      "id": "b6c4353d-9f0e-438b-802c-d859554848d1",
      "metadata": {
        "trusted": true
      },
      "outputs": [],
      "source": "# This will return an error\nf2()"
    },
    {
      "cell_type": "code",
      "execution_count": null,
      "id": "5473c025-e6d4-458c-9e45-6f699cca3af2",
      "metadata": {
        "trusted": true
      },
      "outputs": [],
      "source": "f2(4)"
    },
    {
      "cell_type": "code",
      "execution_count": null,
      "id": "18cbfff2-acbd-4e62-8d6b-d47f7ecd277c",
      "metadata": {
        "trusted": true
      },
      "outputs": [],
      "source": "def f(p,r,y,c):\n    return p*(1 + r)**y + c*( ((1 + r)**(y+1) - (1 + r)) / r )"
    },
    {
      "cell_type": "code",
      "execution_count": null,
      "id": "3a5dab76-dbef-4c14-b93a-1554f25eeb4d",
      "metadata": {
        "trusted": true
      },
      "outputs": [],
      "source": "year = 1\nprincipal = 1000\nrate = 0.05\nannual_contribution = 100\nf(principal, rate, year, annual_contribution)"
    },
    {
      "cell_type": "markdown",
      "id": "02a0ad86-cd86-408d-9e93-d3ad88319010",
      "metadata": {},
      "source": "Functions are useful, of course, for more complicated machinations."
    },
    {
      "cell_type": "code",
      "execution_count": null,
      "id": "277e87c4-f1b9-4a1c-9831-0d39f04ba8d2",
      "metadata": {
        "trusted": true
      },
      "outputs": [],
      "source": "def f2digit(p,r,y,c):\n    r = r/100\n    amountsaved = '{:,.2f}'.format(p*(1 + r)**y + c*( ((1 + r)**(y+1) - (1 + r)) / r ))\n    saying = \"If you save for \" + str(y) + \" years, then you'll have $\" + amountsaved + \" in your retirement.\"\n    return saying"
    },
    {
      "cell_type": "code",
      "execution_count": null,
      "id": "9087c80f-b68b-4ee7-b343-28a0aac4b384",
      "metadata": {
        "trusted": true
      },
      "outputs": [],
      "source": "year = 45\nprincipal = 1000\nrate = 5\nannual_contribution = 6500\nf2digit(principal, rate, year, annual_contribution)"
    },
    {
      "cell_type": "markdown",
      "id": "9d440e75-6045-41b3-8e20-f9f22749160e",
      "metadata": {},
      "source": "<div class=\"alert alert-info\">\n\n<b>Your turn:</b>\n\n1. Write your own function definition\n2. Call your function several times to make sure it works\n    \n</div>"
    },
    {
      "cell_type": "code",
      "execution_count": null,
      "id": "f9f64c05-b8fd-4de0-bb71-8b7241f7e1fc",
      "metadata": {
        "trusted": true
      },
      "outputs": [],
      "source": "# Enter your code for #1 here:\n"
    },
    {
      "cell_type": "code",
      "execution_count": null,
      "id": "5ae45fc4-44d6-44ac-b974-40760798f195",
      "metadata": {
        "trusted": true
      },
      "outputs": [],
      "source": "# Enter your code for #2 here:\n"
    },
    {
      "cell_type": "markdown",
      "id": "ac8f44e7-55b2-4a99-8964-c6842c39a785",
      "metadata": {},
      "source": "## Methods"
    },
    {
      "cell_type": "markdown",
      "id": "1861f211-ae59-4e29-948c-88e34049d9c6",
      "metadata": {},
      "source": "Variables in Python are actually objects (yes, in the object-oriented sense of object).\n\nPython variables can therefore have attributes and methods associated with them."
    },
    {
      "cell_type": "code",
      "execution_count": null,
      "id": "98eb0ff1-3fd3-487a-a626-36edc6192c3e",
      "metadata": {
        "trusted": true
      },
      "outputs": [],
      "source": "numbers"
    },
    {
      "cell_type": "code",
      "execution_count": null,
      "id": "4f0b267d-8532-4988-94bb-39347e81ca3d",
      "metadata": {
        "trusted": true
      },
      "outputs": [],
      "source": "type(numbers)"
    },
    {
      "cell_type": "code",
      "execution_count": null,
      "id": "11aef6c6-1a05-410c-a506-605707853577",
      "metadata": {
        "trusted": true
      },
      "outputs": [],
      "source": "numbers.index(5)"
    },
    {
      "cell_type": "markdown",
      "id": "0f85726f-16e9-487f-88eb-85819f2a9da5",
      "metadata": {},
      "source": "The `.` notation is used to denote that we are using the `index` method associated with the `numbers` list variable, and passing `5` as the input parameter to that method.\n\nIt tells us that the value `5` is in the `numbers` list at index 4."
    },
    {
      "cell_type": "code",
      "execution_count": null,
      "id": "3b2786ef-ce82-4c09-b14a-f76dedd35bb7",
      "metadata": {
        "trusted": true
      },
      "outputs": [],
      "source": "numbers[4]"
    },
    {
      "cell_type": "markdown",
      "id": "4f85dcdd-9106-42f7-ad44-7aa579c38b3d",
      "metadata": {},
      "source": "The `reverse` method will reverse the elements in-place."
    },
    {
      "cell_type": "code",
      "execution_count": null,
      "id": "17713577-8fb1-4e2c-ab03-2d5ff9fdd48c",
      "metadata": {
        "trusted": true
      },
      "outputs": [],
      "source": "numbers.reverse()"
    },
    {
      "cell_type": "code",
      "execution_count": null,
      "id": "88ff4551-a7fd-47f4-9d10-68a2e6668b3c",
      "metadata": {
        "trusted": true
      },
      "outputs": [],
      "source": "numbers"
    },
    {
      "cell_type": "markdown",
      "id": "cd5cbeba-31df-4917-abe9-d95ef6881496",
      "metadata": {},
      "source": "Strings and dictionaries also have methods."
    },
    {
      "cell_type": "code",
      "execution_count": null,
      "id": "7c07dfbf-b1d5-4275-8571-7eeb61cc73cd",
      "metadata": {
        "trusted": true
      },
      "outputs": [],
      "source": "# 'split' splits a string into a list of elements\n# the splitting happens by default on whitespace\n\n'My name is Ben'.split()"
    },
    {
      "cell_type": "code",
      "execution_count": null,
      "id": "523cacce-d10d-43d8-8f88-b22599485223",
      "metadata": {
        "trusted": true
      },
      "outputs": [],
      "source": "# 'join' is a string method that creates a single string from a list\n\n'-'.join(['Combo','words','are','in','this','list'])"
    },
    {
      "cell_type": "markdown",
      "id": "49559b94-a4aa-4231-a923-77505f605440",
      "metadata": {},
      "source": "## Modules"
    },
    {
      "cell_type": "markdown",
      "id": "8a0267dd-d355-4891-9766-c3ba923581ae",
      "metadata": {},
      "source": "A lot of coders have written Python code that you can easily reuse.  "
    },
    {
      "cell_type": "code",
      "execution_count": null,
      "id": "26ab68c8-222f-4e17-8e3d-796adc11c03c",
      "metadata": {
        "trusted": true
      },
      "outputs": [],
      "source": "# Example:\n\n# retrieve the `math` module\nimport math\n\n# use constants stored in the module\nprint('pi = ', math.pi)\n\n# use functions written in the module\nprint('The value of sin(pi/2) is', math.sin(math.pi/2))"
    },
    {
      "cell_type": "markdown",
      "id": "9f56c3eb-87d3-434c-a813-5d71eadecdb8",
      "metadata": {},
      "source": "Some code comes standard with every Python installation.  Other code needs to be retrieved and installed.  However, once you have the code, it can dramatically expand your coding capabilities.\n\nModules allow us to use externally developed code.\n* A module is a group of code items such as functions that are related to one another. Individual modules are often grouped together as a library.\n* Modules can be loaded using `import <modulename>`. \n* Functions that are part of the module `modulename` can then be used by typing `modulename.functionname()`. \n  * For example, `sin()` is a function that is part of the `math` module\n  * We can use to by typing `math.sin()` with some number between the parentheses.\n* Modules may also contain constants in addition to functions.\n  * The `math` module includes a constant for $\\pi$ -- `math.pi`"
    },
    {
      "cell_type": "markdown",
      "id": "a64fbcaa",
      "metadata": {},
      "source": "# Numpy"
    },
    {
      "cell_type": "markdown",
      "id": "962ec1e2",
      "metadata": {},
      "source": "<img src=\"https://numpy.org/images/logo.svg\" alt=\"numpy logo\" width=\"200\"/>\n\nhttps://numpy.org/\n\nThe \"SciPy ecosystem\" of scientific computing in Python builds upon a small core of packages:\nhttps://www.scipy.org/about.html\n\n* **Python**, a general purpose programming language. It is interpreted and dynamically typed and is very well suited for interactive work and quick prototyping, while being powerful enough to write large applications in.\n\n* **NumPy**, the fundamental package for numerical computation. It defines the numerical array and matrix types and basic operations on them.\n\n* The **SciPy library**, a collection of numerical algorithms and domain-specific toolboxes, including signal processing, optimization, statistics, and much more.\n\n* **Matplotlib**, a mature and popular plotting package that provides publication-quality 2-D plotting, as well as rudimentary 3-D plotting."
    },
    {
      "cell_type": "markdown",
      "id": "8fef6d98",
      "metadata": {},
      "source": "## Using NumPy to look at series of data"
    },
    {
      "cell_type": "code",
      "execution_count": null,
      "id": "ed19d60b",
      "metadata": {
        "trusted": true
      },
      "outputs": [],
      "source": "def compound_calculator(principal,rate,year,contribution):\n    p = principal\n    r = rate/100\n    y = year\n    c = contribution\n    balance = p*(1 + r)**y + c*( ((1 + r)**(y+1) - (1 + r)) / r )\n    return balance"
    },
    {
      "cell_type": "code",
      "execution_count": null,
      "id": "64597e4e",
      "metadata": {
        "trusted": true
      },
      "outputs": [],
      "source": "# set these as constants\np = 1000\ny = 1\nc = 100"
    },
    {
      "cell_type": "code",
      "execution_count": null,
      "id": "0a0f9b58",
      "metadata": {
        "trusted": true
      },
      "outputs": [],
      "source": "rates = [1, 2, 3, 4, 5, 6, 7, 8, 9, 10]"
    },
    {
      "cell_type": "code",
      "execution_count": null,
      "id": "5446e466",
      "metadata": {
        "trusted": true
      },
      "outputs": [],
      "source": "balance = []\nfor i in rates:\n    r = i\n    balance.append(compound_calculator(p,r,y,c))\nprint(balance)"
    },
    {
      "cell_type": "markdown",
      "id": "8193ad36",
      "metadata": {},
      "source": "This is what we might like to do:\n`balance = compound_calculator(p,rates,y,c)`"
    },
    {
      "cell_type": "code",
      "execution_count": null,
      "id": "ff26bf5c",
      "metadata": {
        "trusted": true
      },
      "outputs": [],
      "source": "import numpy as np"
    },
    {
      "cell_type": "code",
      "execution_count": null,
      "id": "2a79c0b4",
      "metadata": {
        "trusted": true
      },
      "outputs": [],
      "source": "ratesnp = np.array([1, 2, 3, 4, 5, 6, 7, 8, 9, 10])"
    },
    {
      "cell_type": "code",
      "execution_count": null,
      "id": "e951ebec",
      "metadata": {
        "trusted": true
      },
      "outputs": [],
      "source": "ratesnp"
    },
    {
      "cell_type": "code",
      "execution_count": null,
      "id": "cd81475a",
      "metadata": {
        "trusted": true
      },
      "outputs": [],
      "source": "balancenp = compound_calculator(p,ratesnp,y,c)"
    },
    {
      "cell_type": "code",
      "execution_count": null,
      "id": "40f51622",
      "metadata": {
        "trusted": true
      },
      "outputs": [],
      "source": "balancenp"
    },
    {
      "cell_type": "markdown",
      "id": "1a88068c",
      "metadata": {},
      "source": "### Efficiency of numpy array operations\n\nWe're going to use a bit of ipython \"magics\" to look at timings.... this won't work in scripts, but works well here in the Jupyter notebook"
    },
    {
      "cell_type": "code",
      "execution_count": null,
      "id": "5c47097a",
      "metadata": {
        "trusted": true
      },
      "outputs": [],
      "source": "%%timeit\n\nbalance = []\nfor i in rates:\n    r = i\n    balance.append(compound_calculator(p,r,y,c))"
    },
    {
      "cell_type": "code",
      "execution_count": null,
      "id": "df0fbd7e-1cf8-4524-a28f-050ffa2b0a55",
      "metadata": {
        "trusted": true
      },
      "outputs": [],
      "source": "%%timeit\n\nbalancenp = compound_calculator(p,ratesnp,y,c)"
    },
    {
      "cell_type": "code",
      "execution_count": null,
      "id": "b3403267-6eb4-4e58-8d24-1c58e121773d",
      "metadata": {
        "trusted": true
      },
      "outputs": [],
      "source": "ratesnp = np.arange(1,100)"
    },
    {
      "cell_type": "code",
      "execution_count": null,
      "id": "16da980b-3973-48d1-a875-998a19fda4cb",
      "metadata": {
        "trusted": true
      },
      "outputs": [],
      "source": "ratesnp"
    },
    {
      "cell_type": "code",
      "execution_count": null,
      "id": "5ccdccad-ffa3-44ec-8d5c-bb45b7bf4b6d",
      "metadata": {
        "trusted": true
      },
      "outputs": [],
      "source": "%%timeit\n\nbalance = []\nfor i in range(1,10000):\n    r = i\n    balance.append(compound_calculator(p,r,y,c))"
    },
    {
      "cell_type": "code",
      "execution_count": null,
      "id": "0fa2e064-69bf-45fe-8821-1c1876dd7690",
      "metadata": {
        "trusted": true
      },
      "outputs": [],
      "source": "%%timeit\n\nratesnp = np.arange(1,10000)\nbalancenp = compound_calculator(p,ratesnp,y,c)"
    },
    {
      "cell_type": "markdown",
      "id": "5470ac53-2460-4975-99cb-e7dbde12ad48",
      "metadata": {},
      "source": "## Basic operations with n-dimensional arrays"
    },
    {
      "cell_type": "code",
      "execution_count": null,
      "id": "fa0725a8-e3ad-48a6-bb59-c9a2ce1b8298",
      "metadata": {
        "trusted": true
      },
      "outputs": [],
      "source": "a = np.array([[1,2],[3,4]])\nb = np.array([[-4,-3],[-2,-1]])"
    },
    {
      "cell_type": "code",
      "execution_count": null,
      "id": "dcbb9733-fe66-4d31-bfd5-7a1c669cb390",
      "metadata": {
        "trusted": true
      },
      "outputs": [],
      "source": "a"
    },
    {
      "cell_type": "code",
      "execution_count": null,
      "id": "ef8e8faa-c29f-4fc8-a23a-f9b0b145d8b2",
      "metadata": {
        "trusted": true
      },
      "outputs": [],
      "source": "b"
    },
    {
      "cell_type": "code",
      "execution_count": null,
      "id": "8fe4b625-63c8-4d2c-bca7-b6a1d9f49a0c",
      "metadata": {
        "trusted": true
      },
      "outputs": [],
      "source": "a+b"
    },
    {
      "cell_type": "code",
      "execution_count": null,
      "id": "5111995e-6fae-46de-8775-9586394051aa",
      "metadata": {
        "trusted": true
      },
      "outputs": [],
      "source": "a-b"
    },
    {
      "cell_type": "code",
      "execution_count": null,
      "id": "f5c2b483-8de9-4ea5-8e9b-b614751270bf",
      "metadata": {
        "trusted": true
      },
      "outputs": [],
      "source": "a/b"
    },
    {
      "cell_type": "code",
      "execution_count": null,
      "id": "614e465f-f082-46f5-9569-b7746c4f6a11",
      "metadata": {
        "trusted": true
      },
      "outputs": [],
      "source": "a*b"
    },
    {
      "cell_type": "code",
      "execution_count": null,
      "id": "c25f1be3-cf89-44f5-ae62-32dfd048f120",
      "metadata": {
        "trusted": true
      },
      "outputs": [],
      "source": "np.matmul(a,b)"
    },
    {
      "cell_type": "code",
      "execution_count": null,
      "id": "be189364-b334-4961-8b23-ee307fc981ad",
      "metadata": {
        "trusted": true
      },
      "outputs": [],
      "source": "# array attributes\nprint(a.ndim)\nprint(a.shape)\nprint(a.size)\nprint(a.dtype)"
    },
    {
      "cell_type": "code",
      "execution_count": null,
      "id": "ab791952-22cf-4369-ae52-959e58dec7e6",
      "metadata": {
        "trusted": true
      },
      "outputs": [],
      "source": "a.T"
    },
    {
      "cell_type": "markdown",
      "id": "f0ed441e-c3cf-4c90-af1b-bcb2285b7073",
      "metadata": {},
      "source": "# Indexing and slicing"
    },
    {
      "cell_type": "code",
      "execution_count": null,
      "id": "da81403e-624f-4a44-9c49-072179755509",
      "metadata": {
        "trusted": true
      },
      "outputs": [],
      "source": "a[0]"
    },
    {
      "cell_type": "code",
      "execution_count": null,
      "id": "ad8e38e2-f90e-41dc-929b-5d8950e2db64",
      "metadata": {
        "trusted": true
      },
      "outputs": [],
      "source": "a[0:2]"
    },
    {
      "cell_type": "code",
      "execution_count": null,
      "id": "ea7d293a-a7aa-4624-9de5-7a603b7e9bb0",
      "metadata": {
        "trusted": true
      },
      "outputs": [],
      "source": "a[1:4]"
    },
    {
      "cell_type": "code",
      "execution_count": null,
      "id": "acbc91b2-ab45-4cb0-877c-3568043dd7df",
      "metadata": {
        "trusted": true
      },
      "outputs": [],
      "source": "a[2:4]"
    },
    {
      "cell_type": "code",
      "execution_count": null,
      "id": "83617be6-7a5b-49d7-a205-e5c6d08976ba",
      "metadata": {
        "trusted": true
      },
      "outputs": [],
      "source": "a"
    },
    {
      "cell_type": "code",
      "execution_count": null,
      "id": "5ec2236b-585f-4cbf-9daf-82c0cff66e54",
      "metadata": {
        "trusted": true
      },
      "outputs": [],
      "source": "a[0:1,0]"
    },
    {
      "cell_type": "code",
      "execution_count": null,
      "id": "dbb26568-dd48-465b-ba21-35f281018371",
      "metadata": {
        "trusted": true
      },
      "outputs": [],
      "source": "a[:,0]"
    },
    {
      "cell_type": "code",
      "execution_count": null,
      "id": "efcfe804-a817-4b56-bdcf-21c30376cddd",
      "metadata": {
        "trusted": true
      },
      "outputs": [],
      "source": "a[1,:]"
    },
    {
      "cell_type": "code",
      "execution_count": null,
      "id": "94533f96-21e4-4330-8e41-c69c8c962c96",
      "metadata": {
        "trusted": true
      },
      "outputs": [],
      "source": "a > 2"
    },
    {
      "cell_type": "code",
      "execution_count": null,
      "id": "54f5bbe4-a9c1-4d35-8d24-a4c795762124",
      "metadata": {
        "trusted": true
      },
      "outputs": [],
      "source": "a[a > 2]"
    },
    {
      "cell_type": "code",
      "execution_count": null,
      "id": "5e363f0c-70fd-465d-bdff-bfd6df9f67d0",
      "metadata": {
        "trusted": true
      },
      "outputs": [],
      "source": "a[a % 2 == 0]"
    },
    {
      "cell_type": "markdown",
      "id": "79559868-68c3-4b96-87b7-0fa0f87eef27",
      "metadata": {},
      "source": "## Creating some arrays"
    },
    {
      "cell_type": "code",
      "execution_count": null,
      "id": "fea01799-4831-4d9d-9e52-0b239a4ea38d",
      "metadata": {
        "trusted": true
      },
      "outputs": [],
      "source": "np.arange(10)"
    },
    {
      "cell_type": "code",
      "execution_count": null,
      "id": "dd2fda3f-0581-4d38-be37-33dfe15f39a3",
      "metadata": {
        "trusted": true
      },
      "outputs": [],
      "source": "np.arange(1,11,0.5)"
    },
    {
      "cell_type": "code",
      "execution_count": null,
      "id": "bb799484-3e5e-42d0-a7df-3a7f3f779e27",
      "metadata": {
        "trusted": true
      },
      "outputs": [],
      "source": "np.arange(-1,1,0.2)"
    },
    {
      "cell_type": "code",
      "execution_count": null,
      "id": "12541b38-d776-4ecd-9023-3702a3e8aa76",
      "metadata": {
        "trusted": true
      },
      "outputs": [],
      "source": "np.linspace(-1,1,11)"
    },
    {
      "cell_type": "code",
      "execution_count": null,
      "id": "11edc047-a755-4e31-bf6d-d7d240b47895",
      "metadata": {
        "trusted": true
      },
      "outputs": [],
      "source": "np.linspace(0,2*np.pi,100)"
    },
    {
      "cell_type": "code",
      "execution_count": null,
      "id": "3c4b5de3-6077-479e-9c9a-e52fd91f9e4a",
      "metadata": {
        "trusted": true
      },
      "outputs": [],
      "source": "x = np.linspace(0,2*np.pi,100)\ny = np.cos(x)"
    },
    {
      "cell_type": "code",
      "execution_count": null,
      "id": "d368468b-6671-4915-875f-23e23aae0c8b",
      "metadata": {
        "trusted": true
      },
      "outputs": [],
      "source": "y"
    },
    {
      "cell_type": "markdown",
      "id": "ecf50a13-77c5-447d-a02b-61770fbf7ba8",
      "metadata": {},
      "source": "Let's plot for fun.... briefly use matplotlib"
    },
    {
      "cell_type": "code",
      "execution_count": null,
      "id": "0a248eec-e028-4b46-84a9-ae07289a36db",
      "metadata": {
        "trusted": true
      },
      "outputs": [],
      "source": "import matplotlib.pyplot as plt"
    },
    {
      "cell_type": "code",
      "execution_count": null,
      "id": "8fd6d9ef-83a0-4917-b0d8-bfb0affa7a3e",
      "metadata": {
        "trusted": true
      },
      "outputs": [],
      "source": "plt.plot(x,y,'ro')"
    },
    {
      "cell_type": "markdown",
      "id": "ecfee66f-16e3-4f2c-a7af-1463e74f28b8",
      "metadata": {},
      "source": "## Reshaping\n\n`reshape` will return a new numpy array object pointing at the same data."
    },
    {
      "cell_type": "code",
      "execution_count": null,
      "id": "1df07443-0f36-41e1-b2a7-bb3b32ef213c",
      "metadata": {
        "trusted": true
      },
      "outputs": [],
      "source": "a2 = np.arange(10).reshape((2,5))"
    },
    {
      "cell_type": "code",
      "execution_count": null,
      "id": "f7221c84-6606-4790-a01d-b4827ebf4b7a",
      "metadata": {
        "trusted": true
      },
      "outputs": [],
      "source": "a2"
    },
    {
      "cell_type": "code",
      "execution_count": null,
      "id": "e4078040-c464-45fe-acf1-2bd911dfae1e",
      "metadata": {
        "trusted": true
      },
      "outputs": [],
      "source": "a2.reshape(10)"
    },
    {
      "cell_type": "code",
      "execution_count": null,
      "id": "c71e273d-c2cc-4b45-8194-fcadcdad8a86",
      "metadata": {
        "trusted": true
      },
      "outputs": [],
      "source": "a2"
    },
    {
      "cell_type": "code",
      "execution_count": null,
      "id": "3afbd7b0-abe5-4ccf-bfbd-e37a6aed059a",
      "metadata": {
        "trusted": true
      },
      "outputs": [],
      "source": "a2.reshape((3,4))"
    },
    {
      "cell_type": "code",
      "execution_count": null,
      "id": "69ddd5fa-751d-4009-946e-d41420789d7b",
      "metadata": {
        "trusted": true
      },
      "outputs": [],
      "source": "a2.reshape((10,1))"
    },
    {
      "cell_type": "code",
      "execution_count": null,
      "id": "1ee344a6",
      "metadata": {
        "trusted": true
      },
      "outputs": [],
      "source": "a2.reshape(-1,1)"
    },
    {
      "cell_type": "markdown",
      "id": "f9551b6d-3727-420b-a805-92db6b2f0854",
      "metadata": {},
      "source": "`ravel` is a function that will return a new one-dimensional numpy array that also points to the same data."
    },
    {
      "cell_type": "code",
      "execution_count": null,
      "id": "58abae5e-bf33-4362-9f38-7e1cd594c314",
      "metadata": {
        "trusted": true
      },
      "outputs": [],
      "source": "a2.ravel()"
    },
    {
      "cell_type": "markdown",
      "id": "bb045944-3097-48b6-9887-9fbb813844de",
      "metadata": {},
      "source": "## Operations along axes"
    },
    {
      "cell_type": "code",
      "execution_count": null,
      "id": "30a02a6f-d723-4d6f-b5d0-9514e9b2bbda",
      "metadata": {
        "trusted": true
      },
      "outputs": [],
      "source": "a"
    },
    {
      "cell_type": "code",
      "execution_count": null,
      "id": "83eb84b6-81a9-48e7-b10a-653f662d8478",
      "metadata": {
        "trusted": true
      },
      "outputs": [],
      "source": "a.sum()"
    },
    {
      "cell_type": "code",
      "execution_count": null,
      "id": "fdd6d227-4274-4db0-bdf1-7bea71d3e71c",
      "metadata": {
        "trusted": true
      },
      "outputs": [],
      "source": "a.sum(axis=0)"
    },
    {
      "cell_type": "code",
      "execution_count": null,
      "id": "c25911cd-8cf7-48ee-8de1-35e163eefd81",
      "metadata": {
        "trusted": true
      },
      "outputs": [],
      "source": "a.sum(axis=1)"
    },
    {
      "cell_type": "code",
      "execution_count": null,
      "id": "215d74f0-0e8a-4ff0-88bc-5942084ef4f3",
      "metadata": {
        "trusted": true
      },
      "outputs": [],
      "source": "a.cumsum()"
    },
    {
      "cell_type": "code",
      "execution_count": null,
      "id": "0fd3f74c-5412-44c8-9f96-ce6f524e26a8",
      "metadata": {
        "trusted": true
      },
      "outputs": [],
      "source": "a.cumsum(axis=1)"
    },
    {
      "cell_type": "code",
      "execution_count": null,
      "id": "3c6583f6-6ea7-4938-a115-7fc5be102b8d",
      "metadata": {
        "trusted": true
      },
      "outputs": [],
      "source": "a.min()"
    },
    {
      "cell_type": "code",
      "execution_count": null,
      "id": "dc16ae99-3d12-4b4d-b67a-d545e0880862",
      "metadata": {
        "trusted": true
      },
      "outputs": [],
      "source": "a.min(axis=0)"
    },
    {
      "cell_type": "code",
      "execution_count": null,
      "id": "b6ab14bf-9e92-4127-a4a7-750bcebdb866",
      "metadata": {
        "trusted": true
      },
      "outputs": [],
      "source": "a.max()"
    },
    {
      "cell_type": "code",
      "execution_count": null,
      "id": "03f286e0-f5e2-4269-bb06-8296fbc39b8e",
      "metadata": {
        "trusted": true
      },
      "outputs": [],
      "source": "a.max(axis=1)"
    },
    {
      "cell_type": "markdown",
      "id": "c425fb57-7a9d-4734-abde-e1e782e02ff4",
      "metadata": {},
      "source": "# numpy submodules\n\nThere is a wide range of mathematical functionality provided in the numpy library.\n* See for example https://numpy.org/doc/stable/reference/routines.html\n\nSome of key submodules include:\n* numpy.linalg - linear algebra\n* numpy.fft - Fourier transforms\n* numpy.random - random sampling and various distributions"
    },
    {
      "cell_type": "markdown",
      "id": "7d6a8b8c-8e91-4fb2-bc15-70e375aefa41",
      "metadata": {},
      "source": "## Final numpy fun - estimating $\\pi$"
    },
    {
      "attachments": {
        "image.png": {
          "image/png": "[encoded data removed]"
        }
      },
      "cell_type": "markdown",
      "id": "332fab09-9309-4c60-b9c1-e1245dd435e6",
      "metadata": {},
      "source": "![image.png](attachment:image.png)"
    },
    {
      "cell_type": "markdown",
      "id": "c6bde2dd-54af-46d6-91ec-024133b4f84f",
      "metadata": {},
      "source": "The fraction of sample points that make it into the circle is:\n\n$$\\frac{N_{inside}}{N_{total}} = \\frac{\\pi r^2}{4 r^2}$$\n\nso we can use our sample to calculate $\\pi$ via:\n\n$$\\pi = 4 \\frac{N_{inside}}{N_{total}}$$"
    },
    {
      "cell_type": "code",
      "execution_count": null,
      "id": "e67b697e-a9a6-410d-9c34-644ea477b8e4",
      "metadata": {
        "trusted": true
      },
      "outputs": [],
      "source": "np.random.uniform(0,1)"
    },
    {
      "cell_type": "code",
      "execution_count": null,
      "id": "b0798de1-ae80-44ff-80eb-959ee169c11a",
      "metadata": {
        "trusted": true
      },
      "outputs": [],
      "source": "x = np.random.uniform(0,1,1000)\ny = np.random.uniform(0,1,1000)\nin_circle = (((x-0.5)**2 + (y-0.5)**2) < 0.5**2)"
    },
    {
      "cell_type": "code",
      "execution_count": null,
      "id": "1432585c-bbfc-4bd8-972c-5efe8a232f0f",
      "metadata": {
        "trusted": true
      },
      "outputs": [],
      "source": "in_circle"
    },
    {
      "cell_type": "code",
      "execution_count": null,
      "id": "c6e27c2b-8871-4a91-9f34-57bc3f2d3a1b",
      "metadata": {
        "trusted": true
      },
      "outputs": [],
      "source": "np.unique(in_circle, return_counts=True)"
    },
    {
      "cell_type": "code",
      "execution_count": null,
      "id": "347f68f8-da70-44d0-8d52-258ba2e97caf",
      "metadata": {
        "trusted": true
      },
      "outputs": [],
      "source": "in_unique, in_counts = np.unique(in_circle, return_counts=True)"
    },
    {
      "cell_type": "code",
      "execution_count": null,
      "id": "6003c21b-6af9-4db8-9745-26dd86e8a10c",
      "metadata": {
        "trusted": true
      },
      "outputs": [],
      "source": "in_counts"
    },
    {
      "cell_type": "code",
      "execution_count": null,
      "id": "f43c39cf-fb6d-4520-a497-130ad7c538bb",
      "metadata": {
        "trusted": true
      },
      "outputs": [],
      "source": "4 * in_counts[1] / 1000"
    },
    {
      "cell_type": "code",
      "execution_count": null,
      "id": "6ad31fa0-bd21-4184-8389-85c6f86b4c21",
      "metadata": {
        "trusted": true
      },
      "outputs": [],
      "source": "def pi_estimate(nums = 1000):\n    x = np.random.uniform(0,1,nums)\n    y = np.random.uniform(0,1,nums)\n    in_circle = (((x-0.5)**2 + (y-0.5)**2) < 0.5**2)\n    in_unique, in_counts = np.unique(in_circle, return_counts=True)\n    estimated_pi = 4 * in_counts[1] / nums\n    print('pi = '+str(estimated_pi))\n    return x,y"
    },
    {
      "cell_type": "code",
      "execution_count": null,
      "id": "cb023695-83d8-4551-9ba0-2a3f037823ed",
      "metadata": {
        "trusted": true
      },
      "outputs": [],
      "source": "pi_estimate(100);"
    },
    {
      "cell_type": "code",
      "execution_count": null,
      "id": "5d3a5a87-f7c2-4978-81a1-d629e560a00c",
      "metadata": {
        "trusted": true
      },
      "outputs": [],
      "source": "fig,ax = plt.subplots(figsize=(5,5))\nx,y = pi_estimate(100)\nplt.plot(x,y,'ro')\nplt.axis([0, 1, 0, 1])\ncircle1 = plt.Circle((0.5, 0.5), 0.5)\nplt.gca().add_patch(circle1)\nplt.show();"
    },
    {
      "cell_type": "markdown",
      "id": "a7a9f834-3235-4515-9dec-996b9cea827c",
      "metadata": {
        "slideshow": {
          "slide_type": "slide"
        }
      },
      "source": "# Matplotlib"
    },
    {
      "cell_type": "markdown",
      "id": "7f15649e-b419-4586-91ac-1f72ba085de2",
      "metadata": {
        "slideshow": {
          "slide_type": "slide"
        }
      },
      "source": "https://matplotlib.org/\n\n* \"Matplotlib is a comprehensive library for creating static, animated, and interactive visualizations in Python.\"\n* \"Matplotlib makes easy things easy and hard things possible.\"\n\n* Matplotlib was built on the NumPy and SciPy frameworks and initially made to enable interactive Matlab-like plotting via gnuplot from iPython\n\n* Gained early traction with support from the Space Telescope Institute and JPL\n\n* Easily one of the go-to libraries for academic publishing needs\n  * Create publication-ready graphics in a range of formats\n  * Powerful options to customize all aspects of a figure\n  \n* Matplotlib underlies the plotting capabilities of other libraries such as Pandas, Seaborn, and plotnine"
    },
    {
      "cell_type": "markdown",
      "id": "97629b03-e23a-4da6-8a1e-bc129f26f44d",
      "metadata": {
        "slideshow": {
          "slide_type": "slide"
        }
      },
      "source": "<p style=\"text-align:center;\">\n    <img src=\"https://matplotlib.org/stable/_images/sphx_glr_anatomy_001_2_0x.png\" alt=\"Matplotlib Anatomy of a Figure\" width=\"500\"/>\n</p>\n<a href=\"https://matplotlib.org/stable/gallery/showcase/anatomy.html\">Anatomy of a Figure</a>"
    },
    {
      "cell_type": "code",
      "execution_count": null,
      "id": "0c29aabf-c84d-4f98-8713-f01c74fd96df",
      "metadata": {
        "slideshow": {
          "slide_type": "slide"
        },
        "trusted": true
      },
      "outputs": [],
      "source": "%matplotlib inline\nimport matplotlib.pyplot as plt\nimport numpy as np"
    },
    {
      "cell_type": "code",
      "execution_count": null,
      "id": "4de27f40-a215-4dbb-bd51-ae61fc559ee2",
      "metadata": {
        "slideshow": {
          "slide_type": "slide"
        },
        "trusted": true
      },
      "outputs": [],
      "source": "plt.plot([1,4,3,6])"
    },
    {
      "cell_type": "code",
      "execution_count": null,
      "id": "01058a44-cf88-4946-a188-a1498b50f35d",
      "metadata": {
        "slideshow": {
          "slide_type": "slide"
        },
        "trusted": true
      },
      "outputs": [],
      "source": "plt.plot([1,4,3,6]);"
    },
    {
      "cell_type": "code",
      "execution_count": null,
      "id": "d09cfacc-8c99-4efe-a212-546a3b28e7c9",
      "metadata": {
        "slideshow": {
          "slide_type": "slide"
        },
        "trusted": true
      },
      "outputs": [],
      "source": "plt.plot([1,4,3,6])\nplt.show()"
    },
    {
      "cell_type": "code",
      "execution_count": null,
      "id": "b111d34e-9b00-44ee-a269-d958178b92ae",
      "metadata": {
        "slideshow": {
          "slide_type": "slide"
        },
        "trusted": true
      },
      "outputs": [],
      "source": "plt.plot([1,4,3,6],[2,4,6,8]);"
    },
    {
      "cell_type": "code",
      "execution_count": null,
      "id": "2bdb1dd0-e577-41ae-81e1-3c9133d73199",
      "metadata": {
        "slideshow": {
          "slide_type": "slide"
        },
        "trusted": true
      },
      "outputs": [],
      "source": "plt.plot([1,4,3,6],[2,4,6,8],color='green',marker='o',linestyle='');"
    },
    {
      "cell_type": "code",
      "execution_count": null,
      "id": "ed77d865-a428-4f47-9b74-b35660ab643e",
      "metadata": {
        "slideshow": {
          "slide_type": "slide"
        },
        "trusted": true
      },
      "outputs": [],
      "source": "# Recall:\n# np is our abbrevation for numpy\n# linspace(start, end, ntotal) will make an evenly spaced array of numbers\n# starting with \"start\", going up to and including \"end\", and consisting of \"ntotal\" number of data points\n\nx = np.linspace(0.5, 3.5, 10)\ny = np.cos(x)"
    },
    {
      "cell_type": "code",
      "execution_count": null,
      "id": "319210f8-8304-4d4e-b434-a89822d30ef9",
      "metadata": {
        "slideshow": {
          "slide_type": "slide"
        },
        "trusted": true
      },
      "outputs": [],
      "source": "plt.plot(x,y)\nplt.show()"
    },
    {
      "cell_type": "code",
      "execution_count": null,
      "id": "f85e201a-f5c4-4ce7-844a-2e2591e28cf0",
      "metadata": {
        "slideshow": {
          "slide_type": "slide"
        },
        "trusted": true
      },
      "outputs": [],
      "source": "plt.plot(x,y,'bo')\nplt.show()"
    },
    {
      "cell_type": "code",
      "execution_count": null,
      "id": "1d4fdcd2-aa1b-4c53-bb9f-11d5f800e7bb",
      "metadata": {
        "slideshow": {
          "slide_type": "slide"
        },
        "trusted": true
      },
      "outputs": [],
      "source": "plt.plot(x,y,'bo')\nplt.ylabel('cos(x)')\nplt.show()"
    },
    {
      "cell_type": "markdown",
      "id": "7a11d267-efc5-49b0-ada0-43f866e2e67a",
      "metadata": {},
      "source": "https://matplotlib.org/stable/api/_as_gen/matplotlib.pyplot.plot.html"
    },
    {
      "cell_type": "code",
      "execution_count": null,
      "id": "c0e3d798-4680-4f97-972a-4a542c8de8e2",
      "metadata": {
        "trusted": true
      },
      "outputs": [],
      "source": "x2 = np.linspace(0.5, 3.5, 10)\ny2 = np.cos(2*np.pi/3*(x-0.5))"
    },
    {
      "cell_type": "code",
      "execution_count": null,
      "id": "e9a5c505-f8d8-4ba9-9630-ac9603354a46",
      "metadata": {
        "trusted": true
      },
      "outputs": [],
      "source": "plt.plot(x,y,'bo')\nplt.plot(x2,y2,'ks')\nplt.ylabel('cos(x)')\nplt.show()"
    },
    {
      "cell_type": "code",
      "execution_count": null,
      "id": "a36b7874-ba9c-4062-8222-9fab069694bb",
      "metadata": {
        "trusted": true
      },
      "outputs": [],
      "source": "plt.plot(x,y,'b')\nplt.plot(x2,y2,'k')\nplt.ylabel('cos(x)')\nplt.show()"
    },
    {
      "cell_type": "code",
      "execution_count": null,
      "id": "a0914283-ed9a-430a-b62a-48ba784dedde",
      "metadata": {
        "trusted": true
      },
      "outputs": [],
      "source": "plt.plot(x,y,'b')\nplt.plot(x2,y2,'k')\nplt.ylabel('y')\nplt.xlabel('x')\nplt.show()"
    },
    {
      "cell_type": "code",
      "execution_count": null,
      "id": "2343f775-e415-4740-90d8-373f4b9e8c26",
      "metadata": {
        "trusted": true
      },
      "outputs": [],
      "source": "plt.plot(x,y,'b')\nplt.plot(x2,y2,'k')\nplt.ylabel('y',fontsize=16)\nplt.xlabel('x',fontsize=16)\nplt.title('cosines',fontsize=16)\nplt.show()"
    },
    {
      "cell_type": "code",
      "execution_count": null,
      "id": "1e7aabd4-c29b-4907-9f0e-a08d6aa18940",
      "metadata": {
        "trusted": true
      },
      "outputs": [],
      "source": "plt.plot(x,y,'b')\nplt.plot(x2,y2,'k')\nplt.ylabel('y',fontsize=16)\nplt.xlabel('x',fontsize=16)\nplt.title('cosines',fontsize=16)\nplt.savefig('cosines.png')"
    },
    {
      "cell_type": "code",
      "execution_count": null,
      "id": "ca9d7a22-d464-4132-a087-3a60fd59a2b4",
      "metadata": {
        "trusted": true
      },
      "outputs": [],
      "source": "x = np.linspace(0, 2*np.pi, 100)\ny1 = 3 + np.cos(x)\ny2 = 1 + 0.5*np.cos(1+x/0.75)\n\nplt.plot(x, y1, color='green', linestyle='-', linewidth=1)\nplt.plot(x, y2, color='blue', linestyle='-', linewidth=1)\n\nplt.ylim(0,4.5)\nplt.yticks([0, 1, 2, 3, 4], fontsize=14)\n\nplt.xlabel('x', fontsize=16)\nplt.ylabel('y', fontsize=16)\n\nplt.title('sinusoids', fontsize=16)\n\nplt.text(3,0,'addedtext')\n\nplt.annotate('Spine', xy=(6.28, 1.5), xytext=(5.5, 1.0),\n            weight='bold', color='blue',\n            arrowprops=dict(arrowstyle='->',\n                            connectionstyle=\"arc3\",\n                            color='blue'))\n\nplt.show();"
    },
    {
      "cell_type": "markdown",
      "id": "afae51ef-669d-4724-b477-73af7f909dfd",
      "metadata": {},
      "source": "## Exercise:\n\nFollow the instructions in the comments below.  Consult the documentation as needed (https://matplotlib.org/stable/api/_as_gen/matplotlib.pyplot.plot.html)"
    },
    {
      "cell_type": "code",
      "execution_count": null,
      "id": "ac578a06-62c0-45ca-847f-f120c0e70e97",
      "metadata": {
        "trusted": true
      },
      "outputs": [],
      "source": "x = np.linspace(0, 2*np.pi, 100)\ny1 = 3 + np.cos(x)\ny2 = 1 + 0.5*np.cos(1+x/0.75)\n\n# Make these lines dashed\nplt.plot(x, y1, color='green', linestyle='-', linewidth=1)\nplt.plot(x, y2, color='blue', linestyle='-', linewidth=1)\n\nplt.ylim(0,4.5)\n# Make the x axis range from 0 to 2pi\n\nplt.yticks([0, 1, 2, 3, 4], fontsize=14)\n# Make the xticks at (0, pi, 2pi)\n\nplt.xlabel('x', fontsize=16)\nplt.ylabel('y', fontsize=16)\n\n# Change this title to be \"Anatomy of a figure\"\nplt.title('sinusoids', fontsize=16)\n\n# Shift the following text to be below the title, make it more descriptive, color it blue \nplt.text(3,0,'addedtext')\n\n# Use this annotation command to make another annotation pointing to the green line\nplt.annotate('Spine', xy=(6.28, 1.5), xytext=(5.5, 1.0),\n            weight='bold', color='blue',\n            arrowprops=dict(arrowstyle='->',\n                            connectionstyle=\"arc3\",\n                            color='blue'))\n\nplt.show();"
    },
    {
      "cell_type": "markdown",
      "id": "0fff42ba-b200-491a-8ed9-1930c787e414",
      "metadata": {},
      "source": "# pyplot vs figure and axes"
    },
    {
      "cell_type": "code",
      "execution_count": null,
      "id": "198854f4-9571-4c06-ba0d-73f3a3b0db35",
      "metadata": {
        "trusted": true
      },
      "outputs": [],
      "source": "x = np.linspace(0, 2*np.pi, 100)\ny1 = 3 + np.cos(x)\ny2 = 1 + 0.5*np.cos(1+x/0.75)"
    },
    {
      "cell_type": "code",
      "execution_count": null,
      "id": "b51ecabd-a97f-41a3-be39-093da87274a8",
      "metadata": {
        "trusted": true
      },
      "outputs": [],
      "source": "plt.plot(x,y1,x,y2)\nplt.show()"
    },
    {
      "cell_type": "code",
      "execution_count": null,
      "id": "e95db588-ba37-42bc-b939-b5d74a84e3b0",
      "metadata": {
        "trusted": true
      },
      "outputs": [],
      "source": "fig = plt.figure()\nax = fig.add_axes([0,0,1,1])\n\nax.plot(x,y1,x,y2)\n\nplt.show()"
    },
    {
      "cell_type": "code",
      "execution_count": null,
      "id": "fa2c8397-dbcc-4e5e-b6d8-c3278a3d5b00",
      "metadata": {
        "trusted": true
      },
      "outputs": [],
      "source": "fig = plt.figure()\nax = fig.add_subplot(111)\n\nax.plot(x,y1,x,y2)\n\nplt.show()"
    },
    {
      "cell_type": "code",
      "execution_count": null,
      "id": "07d59744-6561-4c19-a3f2-15c1e49e5e02",
      "metadata": {
        "trusted": true
      },
      "outputs": [],
      "source": "fig = plt.figure(figsize=(8,8))\nax = fig.add_subplot(1, 1, 1)\n\nax.plot(x,y1,x,y2)\n\nplt.show()"
    },
    {
      "cell_type": "code",
      "execution_count": null,
      "id": "e3694091-2b17-4c35-83e9-9c5d234a7b5d",
      "metadata": {
        "trusted": true
      },
      "outputs": [],
      "source": "fig,ax = plt.subplots(1,1,figsize=(8,8))\n\nax.plot(x,y1,x,y2)\n\nplt.show()"
    },
    {
      "cell_type": "code",
      "execution_count": null,
      "id": "680fe55a-47d6-48e2-b292-0b736c92ecde",
      "metadata": {
        "trusted": true
      },
      "outputs": [],
      "source": "fig,ax = plt.subplots(2,1,figsize=(8,8))\n\nax[0].plot(x,y1)\nax[1].plot(x,y2)\n\nplt.show()"
    },
    {
      "cell_type": "markdown",
      "id": "8fb5084d-9167-416b-8b6c-050a560a9e76",
      "metadata": {},
      "source": "## Exercise:\n\nConvert the *Anatomy* figure code (included below) to use figure and axes rather than just `plt`\n\nThe following documentation may be useful: https://matplotlib.org/stable/api/axes_api.html"
    },
    {
      "cell_type": "code",
      "execution_count": null,
      "id": "a05515e6-a7a3-4e03-a004-36b601477d35",
      "metadata": {
        "trusted": true
      },
      "outputs": [],
      "source": "x = np.linspace(0, 2*np.pi, 100)\ny1 = 3 + np.cos(x)\ny2 = 1 + 0.5*np.cos(1+x/0.75)\n\n# Make these lines dashed\nplt.plot(x, y1, color='green', linestyle='--', linewidth=1)\nplt.plot(x, y2, color='blue', linestyle='--', linewidth=1)\n\nplt.ylim(0,4.5)\n# Make the x axis range from 0 to 2pi\nplt.xlim(0,2*np.pi)\n\nplt.yticks([0, 1, 2, 3, 4], fontsize=14)\n# Make the xticks at (0, pi, 2pi)\nplt.xticks([0,np.pi,2*np.pi])\n\nplt.xlabel('x', fontsize=16)\nplt.ylabel('y', fontsize=16)\n\n# Change this title to be \"Anatomy of a figure\"\nplt.title('Anatomy of a figure', fontsize=16)\n\n# Shift the following text to be below the title, make it more descriptive, color it blue \nplt.text(3,4.3,'Title',color='blue')\n\n# Use this annotation command to make another annotation pointing to the green line\nplt.annotate('Spine', xy=(6.28, 1.5), xytext=(5.5, 1.0),\n            weight='bold', color='blue',\n            arrowprops=dict(arrowstyle='->',\n                            connectionstyle=\"arc3\",\n                            color='blue'))\nplt.annotate('Green line', xy=(0.8, 3.8), xytext=(1.5, 3.4),\n            weight='bold', color='blue',\n            arrowprops=dict(arrowstyle='->',\n                            connectionstyle=\"arc3\",\n                            color='blue'))\n\nplt.show();"
    },
    {
      "cell_type": "markdown",
      "id": "14024446-1b41-4079-bf3f-33ebd32c7889",
      "metadata": {},
      "source": "# Creating different types of plots"
    },
    {
      "cell_type": "code",
      "execution_count": null,
      "id": "5ccf72ea-481e-44ec-9d04-b17232d80054",
      "metadata": {
        "trusted": true
      },
      "outputs": [],
      "source": "x = np.linspace(0.5, 3.5, 10)\ny = np.cos(x)"
    },
    {
      "cell_type": "code",
      "execution_count": null,
      "id": "c2b8908c-df1f-4265-a6c3-2e4a095e2962",
      "metadata": {
        "trusted": true
      },
      "outputs": [],
      "source": "plt.scatter(x,y)\nplt.show()"
    },
    {
      "cell_type": "code",
      "execution_count": null,
      "id": "46a03c1b-e40b-4e61-bcea-12c61c3e015a",
      "metadata": {
        "trusted": true
      },
      "outputs": [],
      "source": "plt.bar(x,y)\nplt.show()"
    },
    {
      "cell_type": "code",
      "execution_count": null,
      "id": "12d1ac16-8e5b-42fe-8980-e898a359e1b3",
      "metadata": {
        "trusted": true
      },
      "outputs": [],
      "source": "plt.bar(x,y,width=0.2)\nplt.show()"
    },
    {
      "cell_type": "code",
      "execution_count": null,
      "id": "35912e03-7b41-477f-bd23-56d09babd37f",
      "metadata": {
        "trusted": true
      },
      "outputs": [],
      "source": "plt.barh(x,y,height=0.2)\nplt.show()"
    },
    {
      "cell_type": "code",
      "execution_count": null,
      "id": "d53a0cb2-2a7a-4ba5-809e-aafffd8d660f",
      "metadata": {
        "trusted": true
      },
      "outputs": [],
      "source": "x = np.linspace(0, 4*np.pi, 100)\ny = np.linspace(-2, 2, 100)\nXgrid, Ygrid = np.meshgrid(x,y)\n\nf = np.exp(-Ygrid**2) * np.cos(Xgrid)\n\nplt.contourf(f)\n\nplt.show()"
    },
    {
      "cell_type": "code",
      "execution_count": null,
      "id": "726b4841-2427-4132-a39d-c418337ed59b",
      "metadata": {
        "trusted": true
      },
      "outputs": [],
      "source": "x = np.linspace(0, 4*np.pi, 100)\ny = np.linspace(-2, 2, 100)\nXgrid, Ygrid = np.meshgrid(x,y)\n\nf = np.exp(-Ygrid**2) * np.cos(Xgrid)\n\nplt.contourf(Xgrid, Ygrid, f)\n\nplt.show()"
    },
    {
      "cell_type": "code",
      "execution_count": null,
      "id": "10a56367-757f-4ba6-91a9-a4c88bf45637",
      "metadata": {
        "trusted": true
      },
      "outputs": [],
      "source": "x = np.linspace(0, 4*np.pi, 100)\ny = np.linspace(-2, 2, 100)\nXgrid, Ygrid = np.meshgrid(x,y)\n\nf = np.exp(-Ygrid**2) * np.cos(Xgrid)\n\nplt.contourf(Xgrid, Ygrid, f)\nax = plt.gca()\nax.set_xticks([0,2*np.pi,4*np.pi])\nax.set_xticklabels(['0','$2\\pi$','$4\\pi$'])\n\nplt.show()"
    },
    {
      "cell_type": "code",
      "execution_count": null,
      "id": "ca395cc2-e9f5-417b-8a68-ad7a59d98f82",
      "metadata": {
        "trusted": true
      },
      "outputs": [],
      "source": "np.random.seed(19680801)\ndata = np.random.randn(2, 100)\n\nfig, axs = plt.subplots(2, 2, figsize=(6, 6))\naxs[0, 0].hist(data[0])\naxs[1, 0].scatter(data[0], data[1])\naxs[0, 1].plot(data[0], data[1])\naxs[1, 1].hist2d(data[0], data[1])\n\nplt.show()"
    },
    {
      "cell_type": "markdown",
      "id": "a5026af0-dcb2-4c98-afd2-62fb4b5a93a7",
      "metadata": {},
      "source": "## Exercise:"
    },
    {
      "cell_type": "code",
      "execution_count": null,
      "id": "44516b3d-5b8f-403c-bc55-587477efa21e",
      "metadata": {
        "trusted": true
      },
      "outputs": [],
      "source": "np.random.seed(19680801)\ndata = np.random.randn(2, 100)\n\nfig, axs = plt.subplots(2, 2, figsize=(6, 6))\n\n# for hist, use the parameters \"width\" and \"bins\" to experiment with different hist plots\naxs[0, 0].hist(data[0])\n\n# give this scatter plot y range of (-3.5,3.5), x range of (-4,4), and make the points green\naxs[1, 0].scatter(data[0], data[1])\n\n# make the lines dotted\naxs[0, 1].plot(data[0], data[1])\n\naxs[1, 1].hist2d(data[0], data[1])\n\nplt.show()"
    }
  ],
  "metadata": {
    "kernelspec": {
      "display_name": "Python 3 (ipykernel)",
      "language": "python",
      "name": "python3"
    },
    "language_info": {
      "codemirror_mode": {
        "name": "ipython",
        "version": 3
      },
      "file_extension": ".py",
      "mimetype": "text/x-python",
      "name": "python",
      "nbconvert_exporter": "python",
      "pygments_lexer": "ipython3",
      "version": "3.10.8"
    }
  },
  "nbformat": 4,
  "nbformat_minor": 5
}