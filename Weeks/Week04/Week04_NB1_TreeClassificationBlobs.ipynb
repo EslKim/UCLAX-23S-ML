{
  "cells": [
    {
      "cell_type": "markdown",
      "id": "974a231f",
      "metadata": {},
      "source": "# Classification with Decision Trees"
    },
    {
      "cell_type": "code",
      "execution_count": null,
      "id": "026e801b-a442-4cb8-9ef7-0ba0513fbdb1",
      "metadata": {
        "collapsed": true,
        "trusted": true
      },
      "outputs": [],
      "source": "import numpy as np\nimport matplotlib.pyplot as plt\n\nfrom sklearn.datasets import make_blobs\nfrom sklearn.model_selection import train_test_split\nfrom sklearn.inspection import DecisionBoundaryDisplay\n\nfrom sklearn.linear_model import LogisticRegression\n\nimport sklearn.tree\nfrom sklearn.tree import DecisionTreeClassifier\n\nimport dtreeviz"
    },
    {
      "cell_type": "markdown",
      "id": "f1653185-52e3-45af-b114-78bb5594436a",
      "metadata": {},
      "source": "Using make_blobs to generate some data for classification:\nhttps://docs.w3cub.com/scikit_learn/modules/generated/sklearn.datasets.make_blobs"
    },
    {
      "cell_type": "code",
      "execution_count": null,
      "id": "334592a1-fc5d-4cfa-a2d3-5ee43792414a",
      "metadata": {
        "trusted": true
      },
      "outputs": [],
      "source": "x, y = make_blobs(n_samples=300,\n                  random_state=0, \n                  cluster_std=2)"
    },
    {
      "cell_type": "code",
      "execution_count": null,
      "id": "f0f0743e",
      "metadata": {
        "trusted": true
      },
      "outputs": [],
      "source": "plt.scatter(x[:,0], x[:,1], c=y);"
    },
    {
      "cell_type": "markdown",
      "id": "6af05fa1-33bc-44bb-95e4-8feb0457ce61",
      "metadata": {},
      "source": "## Train/test split"
    },
    {
      "cell_type": "code",
      "execution_count": null,
      "id": "2843d85f-aab0-437f-92aa-cc029b0c48cb",
      "metadata": {
        "trusted": true
      },
      "outputs": [],
      "source": "x_train, x_test, y_train, y_test = train_test_split(x, \n                                                    y, \n                                                    random_state=0)"
    },
    {
      "cell_type": "markdown",
      "id": "ddf3f4d1-8e49-4767-9beb-98161bee50ab",
      "metadata": {},
      "source": "## First, Logistic Regression"
    },
    {
      "cell_type": "code",
      "execution_count": null,
      "id": "6dd70742-e447-4fec-bced-1bda237b5966",
      "metadata": {
        "trusted": true
      },
      "outputs": [],
      "source": "logreg_clf = LogisticRegression()\nlogreg_clf.fit(x_train, y_train)"
    },
    {
      "cell_type": "code",
      "execution_count": null,
      "id": "3d934d71-df40-4616-806e-5fec8571d069",
      "metadata": {
        "trusted": true
      },
      "outputs": [],
      "source": "DecisionBoundaryDisplay.from_estimator(logreg_clf, \n                                       x,\n                                       response_method=\"predict\",\n                                       cmap=\"RdBu\", \n                                       alpha=0.5\n)\n\nplt.scatter(x[:,0], x[:,1], c=y);"
    },
    {
      "cell_type": "code",
      "execution_count": null,
      "id": "8f5d55d0-197f-4173-b73a-0d44e33aa291",
      "metadata": {
        "trusted": true
      },
      "outputs": [],
      "source": "test_score = logreg_clf.score(x_test, y_test)\nprint(f\"Accuracy of Logistic Regression: {test_score:.2f}\")"
    },
    {
      "cell_type": "markdown",
      "id": "0ba8b184-595a-46bf-8730-31d15041be9c",
      "metadata": {},
      "source": "## Decision Tree"
    },
    {
      "cell_type": "code",
      "execution_count": null,
      "id": "016aee27-20f0-41ff-bf74-47be7be4c2f3",
      "metadata": {
        "trusted": true
      },
      "outputs": [],
      "source": "tree_clf = DecisionTreeClassifier()\n\n# tree_clf = DecisionTreeClassifier(max_depth=2)"
    },
    {
      "cell_type": "code",
      "execution_count": null,
      "id": "b258670b-2886-4ac1-8266-f8e43621836a",
      "metadata": {
        "trusted": true
      },
      "outputs": [],
      "source": "tree_clf.fit(x_train, y_train)"
    },
    {
      "cell_type": "code",
      "execution_count": null,
      "id": "e67b4e7d-66bf-4c73-bcbf-af942bf8ca1b",
      "metadata": {
        "trusted": true
      },
      "outputs": [],
      "source": "DecisionBoundaryDisplay.from_estimator(tree_clf, \n                                       x,\n                                       response_method=\"predict\",\n                                       cmap=\"RdBu\", \n                                       alpha=0.5\n)\n\nplt.scatter(x[:,0], x[:,1], c=y);"
    },
    {
      "cell_type": "code",
      "execution_count": null,
      "id": "b8390e58-38f1-479e-82ab-ab005453f38d",
      "metadata": {
        "scrolled": false,
        "trusted": true
      },
      "outputs": [],
      "source": "text_representation = sklearn.tree.export_text(tree_clf)\nprint(text_representation)"
    },
    {
      "cell_type": "code",
      "execution_count": null,
      "id": "f42fbf73-962d-46a5-981c-cd890e7345bf",
      "metadata": {
        "trusted": true
      },
      "outputs": [],
      "source": "tree_clf.classes_"
    },
    {
      "cell_type": "code",
      "execution_count": null,
      "id": "c0dbcfec-6d0c-4729-845c-baa0ecc347e6",
      "metadata": {
        "trusted": true
      },
      "outputs": [],
      "source": "plt.figure(figsize=(12,8))\nsklearn.tree.plot_tree(tree_clf, \n               feature_names=['x0','x1'],  \n               class_names=[str(i) for i in tree_clf.classes_],\n               filled=True);"
    },
    {
      "cell_type": "code",
      "execution_count": null,
      "id": "b9b9e1df-968d-440b-9c69-f11f7b27cb91",
      "metadata": {
        "scrolled": false,
        "trusted": true
      },
      "outputs": [],
      "source": "%%capture --no-display\n\nvizmodel = dtreeviz.model(tree_clf, \n         x,\n         y,\n         feature_names=['x0','x1'],\n         class_names=[i for i in tree_clf.classes_],\n         target_name=\"y\")\n\nvizmodel.view()"
    },
    {
      "cell_type": "code",
      "execution_count": null,
      "id": "412e4a8f",
      "metadata": {
        "scrolled": false,
        "trusted": true
      },
      "outputs": [],
      "source": "sample = [0., 1.]\nprint(vizmodel.explain_prediction_path(sample))"
    },
    {
      "cell_type": "code",
      "execution_count": null,
      "id": "880c3309-ce20-48e3-ae40-d3484bc2becb",
      "metadata": {
        "trusted": true
      },
      "outputs": [],
      "source": "test_score = tree_clf.score(x_test, y_test)\nprint(f\"Accuracy of Decision Tree: {test_score:.2f}\")"
    },
    {
      "cell_type": "markdown",
      "id": "521c6d68-baac-4b3d-bb8f-235abd615612",
      "metadata": {},
      "source": "### How to make predictions?"
    },
    {
      "cell_type": "code",
      "execution_count": null,
      "id": "4b8d8476-c9b3-4267-9655-a95cdced0acc",
      "metadata": {
        "trusted": true
      },
      "outputs": [],
      "source": "sample = [[0,1]]\nprint('Predicted Class:',tree_clf.predict(sample))"
    },
    {
      "cell_type": "code",
      "execution_count": null,
      "id": "2830bab3-eeb8-4408-bf6d-e9b2d8bc54a4",
      "metadata": {
        "trusted": true
      },
      "outputs": [],
      "source": "y_pred_proba = tree_clf.predict_proba(sample)\nprint(y_pred_proba)"
    },
    {
      "cell_type": "code",
      "execution_count": null,
      "id": "3694be70-f551-4bd3-9edf-3bb30dd7a360",
      "metadata": {
        "trusted": true
      },
      "outputs": [],
      "source": "plt.bar(tree_clf.classes_, y_pred_proba[0])"
    }
  ],
  "metadata": {
    "kernelspec": {
      "display_name": "Python 3 (ipykernel)",
      "language": "python",
      "name": "python3"
    },
    "language_info": {
      "codemirror_mode": {
        "name": "ipython",
        "version": 3
      },
      "file_extension": ".py",
      "mimetype": "text/x-python",
      "name": "python",
      "nbconvert_exporter": "python",
      "pygments_lexer": "ipython3",
      "version": "3.10.10"
    }
  },
  "nbformat": 4,
  "nbformat_minor": 5
}