{
  "cells": [
    {
      "cell_type": "markdown",
      "id": "7032e68b-1534-4a63-9771-2fd4af068356",
      "metadata": {},
      "source": "# Showcase of Dimensionality Reduction"
    },
    {
      "cell_type": "code",
      "execution_count": null,
      "id": "04c2f13f-ed17-48c3-aff4-964cd10bc417",
      "metadata": {
        "trusted": true
      },
      "outputs": [],
      "source": "import matplotlib.pyplot as plt"
    },
    {
      "cell_type": "code",
      "execution_count": null,
      "id": "8e815f74-68d3-4582-8507-753bc3096767",
      "metadata": {
        "trusted": true
      },
      "outputs": [],
      "source": "from sklearn.datasets import make_swiss_roll\n\nX, t = make_swiss_roll(n_samples=1000, noise=0.2, random_state=42)"
    },
    {
      "cell_type": "code",
      "execution_count": null,
      "id": "2afc8fcc-c494-42d6-a009-9d2863b6bfda",
      "metadata": {
        "trusted": true
      },
      "outputs": [],
      "source": "X"
    },
    {
      "cell_type": "code",
      "execution_count": null,
      "id": "affeeaee-a559-4972-88dd-3faf24aa8620",
      "metadata": {
        "trusted": true
      },
      "outputs": [],
      "source": "fig = plt.figure(figsize=(6, 4))\nax = plt.axes(projection='3d')\n\nax.scatter(\n    X[:, 0], X[:, 1], X[:, 2], c=t\n)\n\nax.set_title(\"Swiss Roll in Ambient Space\")\nax.view_init(azim=-66, elev=12)"
    },
    {
      "cell_type": "code",
      "execution_count": null,
      "id": "3ff8d49b-3778-4efd-bc75-56bb25a55a68",
      "metadata": {
        "trusted": true
      },
      "outputs": [],
      "source": "fig = plt.figure(figsize=(6, 4))\nax = plt.axes()#projection='3d')\n\nax.scatter(\n    X[:, 0], X[:, 1], c=t\n)\n\nax.set_title(\"Swiss Roll in Ambient Space\")\n#ax.view_init(azim=-66, elev=12)"
    },
    {
      "cell_type": "code",
      "execution_count": null,
      "id": "483e6c47-8007-4d7b-8a67-6434daee0e41",
      "metadata": {
        "trusted": true
      },
      "outputs": [],
      "source": "fig = plt.figure(figsize=(6, 4))\nax = plt.axes()#projection='3d')\n\nax.scatter(\n    X[:, 0], X[:, 2], c=t\n)\n\nax.set_title(\"Swiss Roll in Ambient Space\")\n#ax.view_init(azim=-66, elev=12)"
    },
    {
      "cell_type": "code",
      "execution_count": null,
      "id": "a7f5dc84-6ce1-4f43-94ac-1f3b935a6b15",
      "metadata": {
        "trusted": true
      },
      "outputs": [],
      "source": "fig = plt.figure(figsize=(6, 4))\nax = plt.axes()#projection='3d')\n\nax.scatter(\n    X[:, 1], X[:, 2], c=t\n)\n\nax.set_title(\"Swiss Roll in Ambient Space\")\n#ax.view_init(azim=-66, elev=12)"
    },
    {
      "cell_type": "code",
      "execution_count": null,
      "id": "c3ed6f52-534d-45c8-bd70-e7d990fed745",
      "metadata": {
        "trusted": true
      },
      "outputs": [],
      "source": "from sklearn import manifold"
    },
    {
      "cell_type": "code",
      "execution_count": null,
      "id": "161b7c66-729b-4fdb-8b0c-d8b12692021b",
      "metadata": {
        "trusted": true
      },
      "outputs": [],
      "source": "X_lle = manifold.LocallyLinearEmbedding(\n    n_neighbors=12, n_components=2, random_state=42\n).fit_transform(X)\n\nfig, ax = plt.subplots(figsize=(6, 4))\n\nax.scatter(X_lle[:, 0], X_lle[:, 1], c=t)\nax.set_title(\"Locally Linear Embedding of Swiss Roll\")"
    },
    {
      "cell_type": "code",
      "execution_count": null,
      "id": "22c476a9-f8ca-4147-a8fe-5134fd7a610d",
      "metadata": {
        "trusted": true
      },
      "outputs": [],
      "source": "X_tsne = manifold.TSNE(\n    n_components=2, learning_rate=\"auto\", init=\"pca\", random_state=42\n).fit_transform(X)\n\nfig, ax = plt.subplots(figsize=(6, 4))\n\nax.scatter(X_tsne[:, 0], X_tsne[:, 1], c=t)\nax.set_title(\"t-Distributed Stochastic Neighbor Embedding of Swiss Roll\")"
    },
    {
      "cell_type": "code",
      "execution_count": null,
      "id": "2c4d4b38-a14b-4049-a29f-37747ed7c730",
      "metadata": {
        "trusted": true
      },
      "outputs": [],
      "source": "X_mds = manifold.MDS(\n    n_components=2, random_state=42, normalized_stress='auto'\n).fit_transform(X)\n\nfig, ax = plt.subplots(figsize=(6, 4))\n\nax.scatter(X_mds[:, 0], X_mds[:, 1], c=t)\nax.set_title(\"Multidimensional Scaling (MDS) of Swiss Roll\")"
    },
    {
      "cell_type": "code",
      "execution_count": null,
      "id": "86bec18a-ff14-4fc4-9a52-3d8684b56807",
      "metadata": {
        "trusted": true
      },
      "outputs": [],
      "source": "X_iso = manifold.Isomap(\n    n_components=2\n).fit_transform(X)\n\nfig, ax = plt.subplots(figsize=(6, 4))\n\nax.scatter(X_iso[:, 0], X_iso[:, 1], c=t)\nax.set_title(\"Isomap of Swiss Roll\")"
    },
    {
      "cell_type": "markdown",
      "id": "4d1ff38e-9310-4c47-99ac-537bceda47d1",
      "metadata": {},
      "source": "# Example Dimensionality Reduction + Viz of Digits\n"
    },
    {
      "cell_type": "code",
      "execution_count": null,
      "id": "315249ab-a0c9-430e-bf98-20986590a83d",
      "metadata": {
        "trusted": true
      },
      "outputs": [],
      "source": "import matplotlib.pyplot as plt\nimport sklearn.datasets\nimport sklearn.model_selection\nimport sklearn.metrics"
    },
    {
      "cell_type": "markdown",
      "id": "cd2df92d-ab65-4c28-9692-19666e52d37c",
      "metadata": {},
      "source": "We use the toy digit dataset provided by scikit-learn."
    },
    {
      "cell_type": "code",
      "execution_count": null,
      "id": "b731083b-d1e5-4472-8450-d77c7d9324c9",
      "metadata": {
        "trusted": true
      },
      "outputs": [],
      "source": "d = sklearn.datasets.load_digits()"
    },
    {
      "cell_type": "code",
      "execution_count": null,
      "id": "0af57502-c85a-4f0c-accc-36cf9253a024",
      "metadata": {
        "trusted": true
      },
      "outputs": [],
      "source": "print(d.DESCR)"
    },
    {
      "cell_type": "code",
      "execution_count": null,
      "id": "1e45252e-f67a-45ce-bf6b-e7c5ceb5e212",
      "metadata": {
        "trusted": true
      },
      "outputs": [],
      "source": "x = d.data\ny = d.target"
    },
    {
      "cell_type": "code",
      "execution_count": null,
      "id": "fdc2b371-b797-40e7-b07b-aab7553e14b8",
      "metadata": {
        "trusted": true
      },
      "outputs": [],
      "source": "x.shape"
    },
    {
      "cell_type": "code",
      "execution_count": null,
      "id": "071dee6d-fd8c-470b-ae89-36d3388c9fc3",
      "metadata": {
        "trusted": true
      },
      "outputs": [],
      "source": "y.shape"
    },
    {
      "cell_type": "code",
      "execution_count": null,
      "id": "0f81792c-42cd-4c81-8f73-cf1ac92478d0",
      "metadata": {
        "trusted": true
      },
      "outputs": [],
      "source": "x[0]"
    },
    {
      "cell_type": "code",
      "execution_count": null,
      "id": "39b3a0d5-068f-410f-b699-eba75a8b95f3",
      "metadata": {
        "trusted": true
      },
      "outputs": [],
      "source": "y[0]"
    },
    {
      "cell_type": "markdown",
      "id": "7ef430b4-5d4b-4c73-a044-8a1f25c4bdfa",
      "metadata": {},
      "source": "The samples consist of 64 features, one for each pixel value of an 8x8 image array.  We can reshape the sample into an 8x8 array in order to visualize it."
    },
    {
      "cell_type": "code",
      "execution_count": null,
      "id": "0917e4b9-c9dc-4cb7-95ff-fc58c4b2c206",
      "metadata": {
        "trusted": true
      },
      "outputs": [],
      "source": "sample = x[4].reshape(8,8)\nplt.imshow(sample, cmap='binary')"
    },
    {
      "cell_type": "code",
      "execution_count": null,
      "id": "ed2623d1-6100-4d6b-b526-c8e76a9db8fb",
      "metadata": {
        "trusted": true
      },
      "outputs": [],
      "source": "for i in range(100):\n    plt.subplot(10,10,i+1)\n    sample = x[i].reshape(8,8)\n    plt.imshow(sample, cmap='binary')"
    },
    {
      "cell_type": "code",
      "execution_count": null,
      "id": "bc08ffff-80ee-4485-8c99-fc59a89635cf",
      "metadata": {
        "trusted": true
      },
      "outputs": [],
      "source": "from sklearn.manifold import TSNE\n\ntsne = TSNE(n_components=2, random_state=42)\nx_reduced = tsne.fit_transform(x)"
    },
    {
      "cell_type": "code",
      "execution_count": null,
      "id": "b51e9935-bb6d-4ff6-95f0-cc8d49044895",
      "metadata": {
        "trusted": true
      },
      "outputs": [],
      "source": "plt.figure(figsize=(8,5))\nplt.scatter(x_reduced[:, 0], x_reduced[:, 1], c=y, cmap=\"jet\")\nplt.axis('off')\nplt.colorbar()\nplt.show()"
    },
    {
      "cell_type": "code",
      "execution_count": null,
      "id": "f4d4ef3a-f916-4c7b-988a-55267eea16d8",
      "metadata": {
        "trusted": true
      },
      "outputs": [],
      "source": "# This is a helper for subsequent cells\n# Taken from the A. Geron's book's \"plothelp.py\"\n\nfrom sklearn.preprocessing import MinMaxScaler\nimport numpy as np\nimport matplotlib as mpl\nfrom matplotlib.offsetbox import AnnotationBbox, OffsetImage\n\ndef plot_digits(X, y, min_distance=0.05, images=None, figsize=(8, 5)):\n    # Let's scale the input features so that they range from 0 to 1\n    X_normalized = MinMaxScaler().fit_transform(X)\n    # Now we create the list of coordinates of the digits plotted so far.\n    # We pretend that one is already plotted far away at the start, to\n    # avoid `if` statements in the loop below\n    neighbors = np.array([[10., 10.]])\n    # The rest should be self-explanatory\n    plt.figure(figsize=figsize)\n    cmap = mpl.cm.get_cmap(\"jet\")\n    digits = np.unique(y)\n    for digit in digits:\n        plt.scatter(X_normalized[y == digit, 0], X_normalized[y == digit, 1], c=[cmap(digit / 9)])\n    plt.axis(\"off\")\n    ax = plt.gcf().gca()  # get current axes in current figure\n    for index, image_coord in enumerate(X_normalized):\n        closest_distance = np.linalg.norm(neighbors - image_coord, axis=1).min()\n        if closest_distance > min_distance:\n            neighbors = np.r_[neighbors, [image_coord]]\n            if images is None:\n                plt.text(image_coord[0], image_coord[1], str(int(y[index])),\n                         color=cmap(y[index] / 9), fontdict={\"weight\": \"bold\", \"size\": 16})\n            else:\n                image = images[index].reshape(28, 28)\n                imagebox = AnnotationBbox(OffsetImage(image, cmap=\"binary\"), image_coord)\n                ax.add_artist(imagebox)"
    },
    {
      "cell_type": "code",
      "execution_count": null,
      "id": "ecf193d9-41f9-47e7-8237-5bfded8738a6",
      "metadata": {
        "trusted": true
      },
      "outputs": [],
      "source": "plot_digits(x_reduced, y)\nplt.show()"
    },
    {
      "cell_type": "code",
      "execution_count": null,
      "id": "2cca2591-0bff-44c6-b49f-f703cfb8fa72",
      "metadata": {
        "trusted": true
      },
      "outputs": [],
      "source": "from sklearn.decomposition import PCA\nimport time\n\nt0 = time.time()\nx_pca_reduced = PCA(n_components=2, random_state=42).fit_transform(x)\nt1 = time.time()\n\nprint(\"PCA took {:.1f}s.\".format(t1 - t0))\n\nplot_digits(x_pca_reduced, y)\nplt.show()"
    },
    {
      "cell_type": "code",
      "execution_count": null,
      "id": "f49d4e7a-88e2-4671-bca2-0b1394c86308",
      "metadata": {
        "trusted": true
      },
      "outputs": [],
      "source": "from sklearn.manifold import LocallyLinearEmbedding\n\nt0 = time.time()\nx_lle_reduced = LocallyLinearEmbedding(n_components=2, random_state=42).fit_transform(x)\nt1 = time.time()\n\nprint(\"LLE took {:.1f}s.\".format(t1 - t0))\n\nplot_digits(x_lle_reduced, y)\nplt.show()"
    },
    {
      "cell_type": "markdown",
      "id": "b876772e-e6fb-4ded-b9a6-7c3523ffaeb5",
      "metadata": {},
      "source": "## Full MNIST dimensionality reduction for viz"
    },
    {
      "cell_type": "markdown",
      "id": "f1d14a5c",
      "metadata": {},
      "source": "## Note:\n\n**To execute the following, please download and run on your own system.  The following cells will max out the RAM for user environments on this JupyterHub.**"
    },
    {
      "cell_type": "code",
      "execution_count": null,
      "id": "791bae78-4394-4be7-a7a4-262bd0058368",
      "metadata": {
        "trusted": true
      },
      "outputs": [],
      "source": "from sklearn.datasets import fetch_openml\n\nimport time\n\nfrom sklearn.decomposition import PCA\nfrom sklearn.manifold import LocallyLinearEmbedding\nfrom sklearn.manifold import MDS\nfrom sklearn.manifold import TSNE\nfrom sklearn.discriminant_analysis import LinearDiscriminantAnalysis\n\nfrom sklearn.pipeline import Pipeline"
    },
    {
      "cell_type": "code",
      "execution_count": null,
      "id": "2f5324c3-a2d4-46aa-9e5e-d0c7fab72a5c",
      "metadata": {
        "trusted": true
      },
      "outputs": [],
      "source": "mnist = fetch_openml('mnist_784', version=1, as_frame=False, parser='auto')"
    },
    {
      "cell_type": "code",
      "execution_count": null,
      "id": "d5ec6144-d86c-4656-89bb-3a814a9a3fea",
      "metadata": {
        "trusted": true
      },
      "outputs": [],
      "source": "mnist.target = mnist.target.astype(np.uint8)"
    },
    {
      "cell_type": "code",
      "execution_count": null,
      "id": "24eca0c4-2868-485a-8470-f486e5428e5e",
      "metadata": {
        "trusted": true
      },
      "outputs": [],
      "source": "np.random.seed(42)\n\nm = 10000\nidx = np.random.permutation(60000)[:m]\n\nx = mnist['data'][idx]\ny = mnist['target'][idx]"
    },
    {
      "cell_type": "code",
      "execution_count": null,
      "id": "14b4d441-18bb-4ba3-8b9a-7fa706dec9f1",
      "metadata": {
        "trusted": true
      },
      "outputs": [],
      "source": "x.shape"
    },
    {
      "cell_type": "code",
      "execution_count": null,
      "id": "b67b02eb-c69a-4a76-9cd5-71623033b140",
      "metadata": {
        "trusted": true
      },
      "outputs": [],
      "source": "tsne = TSNE(n_components=2, random_state=42)\nx_reduced = tsne.fit_transform(x)"
    },
    {
      "cell_type": "code",
      "execution_count": null,
      "id": "90f7c089-83c6-4288-955d-5c45ccf35c9e",
      "metadata": {
        "trusted": true
      },
      "outputs": [],
      "source": "plt.figure(figsize=(8,5))\nplt.scatter(x_reduced[:, 0], x_reduced[:, 1], c=y, cmap=\"jet\")\nplt.axis('off')\nplt.colorbar()\nplt.show()"
    },
    {
      "cell_type": "code",
      "execution_count": null,
      "id": "9173ef28-c467-43ac-9e72-2e7fcfeeff97",
      "metadata": {
        "trusted": true
      },
      "outputs": [],
      "source": "plt.figure(figsize=(8,5))\ncmap = mpl.cm.get_cmap(\"jet\")\nfor digit in (2, 3, 5):\n    plt.scatter(x_reduced[y == digit, 0], x_reduced[y == digit, 1], c=[cmap(digit / 9)])\nplt.axis('off')\nplt.show()"
    },
    {
      "cell_type": "markdown",
      "id": "dc7e5115-fa77-41a7-995f-0269346d5d16",
      "metadata": {},
      "source": "### Principal Component Analysis (PCA)"
    },
    {
      "cell_type": "code",
      "execution_count": null,
      "id": "7a0c8e05-ad06-4e89-a4f9-fc16a36d2945",
      "metadata": {
        "trusted": true
      },
      "outputs": [],
      "source": "t0 = time.time()\nx_pca_reduced = PCA(n_components=2, random_state=42).fit_transform(x)\nt1 = time.time()\n\nprint(\"PCA took {:.1f}s.\".format(t1 - t0))\n\nplothelp.plot_digits(x_pca_reduced, y)\nplt.show()"
    },
    {
      "cell_type": "markdown",
      "id": "9cbd2e45-cf2b-4760-a9f4-69ef6bb7af8f",
      "metadata": {},
      "source": "### Locally Linear Embedding (LLE)"
    },
    {
      "cell_type": "code",
      "execution_count": null,
      "id": "404ea7d4-306a-4558-96fe-ffabdfdf2598",
      "metadata": {
        "trusted": true
      },
      "outputs": [],
      "source": "t0 = time.time()\nx_lle_reduced = LocallyLinearEmbedding(n_components=2, random_state=42).fit_transform(x)\nt1 = time.time()\n\nprint(\"LLE took {:.1f}s.\".format(t1 - t0))\n\nplothelp.plot_digits(x_lle_reduced, y)\nplt.show()"
    },
    {
      "cell_type": "markdown",
      "id": "c3ef3ae5-a251-4340-9b36-6ec0598fdc94",
      "metadata": {},
      "source": "### PCA + LLE"
    },
    {
      "cell_type": "code",
      "execution_count": null,
      "id": "80c062e0-c129-4691-bf60-a203bace07ee",
      "metadata": {
        "trusted": true
      },
      "outputs": [],
      "source": "pca_lle = Pipeline([\n    (\"pca\", PCA(n_components=0.95, random_state=42)),\n    (\"lle\", LocallyLinearEmbedding(n_components=2, random_state=42)),\n])\n\nt0 = time.time()\nx_pca_lle_reduced = pca_lle.fit_transform(x)\nt1 = time.time()\n\nprint(\"PCA+LLE took {:.1f}s.\".format(t1 - t0))\n\nplothelp.plot_digits(x_pca_lle_reduced, y)\nplt.show()"
    },
    {
      "cell_type": "markdown",
      "id": "e30282f1-8f84-4acd-9350-e44a7e57a805",
      "metadata": {},
      "source": "### Multidimensional Scaling (MDS)"
    },
    {
      "cell_type": "code",
      "execution_count": null,
      "id": "116af6bb-41f2-448c-8456-034b6526462a",
      "metadata": {
        "trusted": true
      },
      "outputs": [],
      "source": "t0 = time.time()\nm = 2000\nx_mds_reduced = MDS(n_components=2, random_state=42).fit_transform(x[:m])\nt1 = time.time()\n\nprint(\"MDS took {:.1f}s (on just 2,000 MNIST images instead of 10,000).\".format(t1 - t0))\n\nplothelp.plot_digits(x_mds_reduced, y[:m])\nplt.show()"
    },
    {
      "cell_type": "markdown",
      "id": "517d803a-6f4f-4269-aaba-e29f6c0de24c",
      "metadata": {},
      "source": "### PCA + MDS"
    },
    {
      "cell_type": "code",
      "execution_count": null,
      "id": "3aa113ba-682d-4add-a093-77f3b51de9b6",
      "metadata": {
        "trusted": true
      },
      "outputs": [],
      "source": "pca_mds = Pipeline([\n    (\"pca\", PCA(n_components=0.95, random_state=42)),\n    (\"mds\", MDS(n_components=2, random_state=42)),\n])\n\nt0 = time.time()\nm = 2000\nx_pca_mds_reduced = pca_mds.fit_transform(x[:m])\nt1 = time.time()\n\nprint(\"PCA+MDS took {:.1f}s (on 2,000 MNIST images).\".format(t1 - t0))\n\nplothelp.plot_digits(x_pca_mds_reduced, y[:2000])\nplt.show()"
    },
    {
      "cell_type": "markdown",
      "id": "029a015e-d7f3-4ca8-99e9-3b63ccb585b9",
      "metadata": {},
      "source": "### Linear Discriminant Analysis (LDA)"
    },
    {
      "cell_type": "code",
      "execution_count": null,
      "id": "b3d2428c-7072-4ede-8aa8-1b6f64f9938b",
      "metadata": {
        "trusted": true
      },
      "outputs": [],
      "source": "t0 = time.time()\nx_lda_reduced = LinearDiscriminantAnalysis(n_components=2).fit_transform(x, y)\nt1 = time.time()\n\nprint(\"LDA took {:.1f}s.\".format(t1 - t0))\n\nplothelp.plot_digits(x_lda_reduced, y, figsize=(12,12))\nplt.show()"
    },
    {
      "cell_type": "markdown",
      "id": "0d610763-f575-4ab2-8dce-30f2667bac09",
      "metadata": {},
      "source": "### t-Distributed Stochastic Neighbor Embedding (t-SNE)"
    },
    {
      "cell_type": "code",
      "execution_count": null,
      "id": "00dbd2e9-1b23-4113-a9c2-911656ac1e46",
      "metadata": {
        "trusted": true
      },
      "outputs": [],
      "source": "t0 = time.time()\nx_tsne_reduced = TSNE(n_components=2, random_state=42).fit_transform(x)\nt1 = time.time()\n\nprint(\"t-SNE took {:.1f}s.\".format(t1 - t0))\n\nplothelp.plot_digits(x_tsne_reduced, y)\nplt.show()"
    },
    {
      "cell_type": "markdown",
      "id": "7e30c684-9d82-4097-a94e-2fd9dab7ca98",
      "metadata": {},
      "source": "### PCA + t-SNE"
    },
    {
      "cell_type": "code",
      "execution_count": null,
      "id": "1de42d41-0996-4797-aa51-4e8b587c38a2",
      "metadata": {
        "trusted": true
      },
      "outputs": [],
      "source": "pca_tsne = Pipeline([\n    (\"pca\", PCA(n_components=0.95, random_state=42)),\n    (\"tsne\", TSNE(n_components=2, random_state=42)),\n])\n\nt0 = time.time()\nx_pca_tsne_reduced = pca_tsne.fit_transform(x)\nt1 = time.time()\n\nprint(\"PCA+t-SNE took {:.1f}s.\".format(t1 - t0))\n\nplothelp.plot_digits(x_pca_tsne_reduced, y)\nplt.show()"
    }
  ],
  "metadata": {
    "kernelspec": {
      "display_name": "Python 3 (ipykernel)",
      "language": "python",
      "name": "python3"
    },
    "language_info": {
      "codemirror_mode": {
        "name": "ipython",
        "version": 3
      },
      "file_extension": ".py",
      "mimetype": "text/x-python",
      "name": "python",
      "nbconvert_exporter": "python",
      "pygments_lexer": "ipython3",
      "version": "3.10.10"
    }
  },
  "nbformat": 4,
  "nbformat_minor": 5
}